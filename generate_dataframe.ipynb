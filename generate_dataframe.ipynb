{
 "cells": [
  {
   "cell_type": "code",
   "execution_count": 648,
   "metadata": {},
   "outputs": [],
   "source": [
    "import numpy as np\n",
    "import pandas as pd\n",
    "import warnings\n",
    "warnings.filterwarnings(action='ignore')\n",
    "import datetime"
   ]
  },
  {
   "cell_type": "markdown",
   "metadata": {},
   "source": [
    "### **[ 전처리 1 : 코일 재공 정보에 관한 데이터프레임 생성 및 그룹핑 ]**\n",
    "#### **ANN 재공현황.csv 데이터 불러오기**"
   ]
  },
  {
   "cell_type": "code",
   "execution_count": 584,
   "metadata": {},
   "outputs": [
    {
     "data": {
      "text/html": [
       "<div>\n",
       "<style scoped>\n",
       "    .dataframe tbody tr th:only-of-type {\n",
       "        vertical-align: middle;\n",
       "    }\n",
       "\n",
       "    .dataframe tbody tr th {\n",
       "        vertical-align: top;\n",
       "    }\n",
       "\n",
       "    .dataframe thead th {\n",
       "        text-align: right;\n",
       "    }\n",
       "</style>\n",
       "<table border=\"1\" class=\"dataframe\">\n",
       "  <thead>\n",
       "    <tr style=\"text-align: right;\">\n",
       "      <th></th>\n",
       "      <th>BUS_CD</th>\n",
       "      <th>COIL_NO</th>\n",
       "      <th>LOT_NO</th>\n",
       "      <th>BASIC_COIL_NO</th>\n",
       "      <th>HOTCOI_NO</th>\n",
       "      <th>MOTCOI_NO</th>\n",
       "      <th>TRK_NO</th>\n",
       "      <th>EMG_CD</th>\n",
       "      <th>AFTEMG_CD</th>\n",
       "      <th>PKG_NO</th>\n",
       "      <th>...</th>\n",
       "      <th>CRT_DT</th>\n",
       "      <th>CRTCHR_NO</th>\n",
       "      <th>UPD_DT</th>\n",
       "      <th>UPDCHR_NO</th>\n",
       "      <th>COILEND_DT</th>\n",
       "      <th>SEMIPKG_YN</th>\n",
       "      <th>SEMIPKG_CD</th>\n",
       "      <th>PKG_CD</th>\n",
       "      <th>LEV2SE_YN</th>\n",
       "      <th>ZON_CD</th>\n",
       "    </tr>\n",
       "  </thead>\n",
       "  <tbody>\n",
       "    <tr>\n",
       "      <th>0</th>\n",
       "      <td>1173DK</td>\n",
       "      <td>07KC1022111A</td>\n",
       "      <td>2007KC1022</td>\n",
       "      <td>07KC1022111</td>\n",
       "      <td>92311302</td>\n",
       "      <td>07KC1022111</td>\n",
       "      <td>NaN</td>\n",
       "      <td>1282N</td>\n",
       "      <td>NaN</td>\n",
       "      <td>NaN</td>\n",
       "      <td>...</td>\n",
       "      <td>2007-03-06 0:00</td>\n",
       "      <td>MGTEST</td>\n",
       "      <td>2019-07-12 14:50</td>\n",
       "      <td>이승용</td>\n",
       "      <td>NaN</td>\n",
       "      <td>NaN</td>\n",
       "      <td>NaN</td>\n",
       "      <td>NaN</td>\n",
       "      <td>E</td>\n",
       "      <td>1510P</td>\n",
       "    </tr>\n",
       "    <tr>\n",
       "      <th>1</th>\n",
       "      <td>1173DK</td>\n",
       "      <td>07KC1022211A</td>\n",
       "      <td>2007KC1022</td>\n",
       "      <td>07KC1022211</td>\n",
       "      <td>92311302</td>\n",
       "      <td>07KC1022211</td>\n",
       "      <td>NaN</td>\n",
       "      <td>1282N</td>\n",
       "      <td>NaN</td>\n",
       "      <td>NaN</td>\n",
       "      <td>...</td>\n",
       "      <td>2007-03-07 0:00</td>\n",
       "      <td>MGTEST</td>\n",
       "      <td>2013-01-16 14:26</td>\n",
       "      <td>김덕림</td>\n",
       "      <td>NaN</td>\n",
       "      <td>NaN</td>\n",
       "      <td>NaN</td>\n",
       "      <td>NaN</td>\n",
       "      <td>E</td>\n",
       "      <td>1510P</td>\n",
       "    </tr>\n",
       "    <tr>\n",
       "      <th>2</th>\n",
       "      <td>1173DK</td>\n",
       "      <td>07KC1022311A</td>\n",
       "      <td>2007KC1022</td>\n",
       "      <td>07KC1022311</td>\n",
       "      <td>92311302</td>\n",
       "      <td>07KC1022311</td>\n",
       "      <td>NaN</td>\n",
       "      <td>1282N</td>\n",
       "      <td>NaN</td>\n",
       "      <td>NaN</td>\n",
       "      <td>...</td>\n",
       "      <td>2007-03-07 0:00</td>\n",
       "      <td>MGTEST</td>\n",
       "      <td>2020-03-18 22:52</td>\n",
       "      <td>김백수</td>\n",
       "      <td>NaN</td>\n",
       "      <td>NaN</td>\n",
       "      <td>NaN</td>\n",
       "      <td>NaN</td>\n",
       "      <td>E</td>\n",
       "      <td>1510P</td>\n",
       "    </tr>\n",
       "  </tbody>\n",
       "</table>\n",
       "<p>3 rows × 115 columns</p>\n",
       "</div>"
      ],
      "text/plain": [
       "   BUS_CD       COIL_NO      LOT_NO BASIC_COIL_NO HOTCOI_NO    MOTCOI_NO  \\\n",
       "0  1173DK  07KC1022111A  2007KC1022   07KC1022111  92311302  07KC1022111   \n",
       "1  1173DK  07KC1022211A  2007KC1022   07KC1022211  92311302  07KC1022211   \n",
       "2  1173DK  07KC1022311A  2007KC1022   07KC1022311  92311302  07KC1022311   \n",
       "\n",
       "   TRK_NO EMG_CD AFTEMG_CD PKG_NO  ...           CRT_DT CRTCHR_NO  \\\n",
       "0     NaN  1282N       NaN    NaN  ...  2007-03-06 0:00    MGTEST   \n",
       "1     NaN  1282N       NaN    NaN  ...  2007-03-07 0:00    MGTEST   \n",
       "2     NaN  1282N       NaN    NaN  ...  2007-03-07 0:00    MGTEST   \n",
       "\n",
       "             UPD_DT UPDCHR_NO COILEND_DT SEMIPKG_YN SEMIPKG_CD PKG_CD  \\\n",
       "0  2019-07-12 14:50       이승용        NaN        NaN        NaN    NaN   \n",
       "1  2013-01-16 14:26       김덕림        NaN        NaN        NaN    NaN   \n",
       "2  2020-03-18 22:52       김백수        NaN        NaN        NaN    NaN   \n",
       "\n",
       "  LEV2SE_YN  ZON_CD  \n",
       "0         E   1510P  \n",
       "1         E   1510P  \n",
       "2         E   1510P  \n",
       "\n",
       "[3 rows x 115 columns]"
      ]
     },
     "execution_count": 584,
     "metadata": {},
     "output_type": "execute_result"
    }
   ],
   "source": [
    "coil_mip_df = pd.read_csv(\"./data/ANN 재공현황.csv\")\n",
    "coil_mip_df[:3]"
   ]
  },
  {
   "cell_type": "markdown",
   "metadata": {},
   "source": [
    "#### **ANN 재공현황.csv에서 필요한 열만 선정**\n"
   ]
  },
  {
   "cell_type": "code",
   "execution_count": 585,
   "metadata": {},
   "outputs": [
    {
     "data": {
      "text/html": [
       "<div>\n",
       "<style scoped>\n",
       "    .dataframe tbody tr th:only-of-type {\n",
       "        vertical-align: middle;\n",
       "    }\n",
       "\n",
       "    .dataframe tbody tr th {\n",
       "        vertical-align: top;\n",
       "    }\n",
       "\n",
       "    .dataframe thead th {\n",
       "        text-align: right;\n",
       "    }\n",
       "</style>\n",
       "<table border=\"1\" class=\"dataframe\">\n",
       "  <thead>\n",
       "    <tr style=\"text-align: right;\">\n",
       "      <th></th>\n",
       "      <th>COIL_NO</th>\n",
       "      <th>PRDSPC_ID</th>\n",
       "      <th>PNSPRC_CD</th>\n",
       "      <th>WDT_LEN</th>\n",
       "      <th>WGT_WGT</th>\n",
       "      <th>IND_CD</th>\n",
       "      <th>OUD_LEN</th>\n",
       "      <th>STL_CD</th>\n",
       "      <th>EMG_CD</th>\n",
       "    </tr>\n",
       "  </thead>\n",
       "  <tbody>\n",
       "    <tr>\n",
       "      <th>0</th>\n",
       "      <td>07KC1022111A</td>\n",
       "      <td>SCP1-H-B</td>\n",
       "      <td>AN10</td>\n",
       "      <td>392.0</td>\n",
       "      <td>5688</td>\n",
       "      <td>1260508</td>\n",
       "      <td>1616</td>\n",
       "      <td>10021</td>\n",
       "      <td>1282N</td>\n",
       "    </tr>\n",
       "    <tr>\n",
       "      <th>1</th>\n",
       "      <td>07KC1022211A</td>\n",
       "      <td>SCP1-H-B</td>\n",
       "      <td>AN10</td>\n",
       "      <td>392.0</td>\n",
       "      <td>5688</td>\n",
       "      <td>1260508</td>\n",
       "      <td>1616</td>\n",
       "      <td>10021</td>\n",
       "      <td>1282N</td>\n",
       "    </tr>\n",
       "    <tr>\n",
       "      <th>2</th>\n",
       "      <td>07KC1022311A</td>\n",
       "      <td>SCP1-H-B</td>\n",
       "      <td>AN10</td>\n",
       "      <td>392.0</td>\n",
       "      <td>5688</td>\n",
       "      <td>1260508</td>\n",
       "      <td>1616</td>\n",
       "      <td>10021</td>\n",
       "      <td>1282N</td>\n",
       "    </tr>\n",
       "    <tr>\n",
       "      <th>3</th>\n",
       "      <td>07KK1D22111</td>\n",
       "      <td>SCP1-H-B</td>\n",
       "      <td>AN10</td>\n",
       "      <td>1228.0</td>\n",
       "      <td>17479</td>\n",
       "      <td>1260400</td>\n",
       "      <td>1571</td>\n",
       "      <td>10021</td>\n",
       "      <td>NaN</td>\n",
       "    </tr>\n",
       "    <tr>\n",
       "      <th>4</th>\n",
       "      <td>09KA1B77311</td>\n",
       "      <td>SCP1-H-B</td>\n",
       "      <td>AN11</td>\n",
       "      <td>309.0</td>\n",
       "      <td>4811</td>\n",
       "      <td>1260508</td>\n",
       "      <td>1668</td>\n",
       "      <td>10021</td>\n",
       "      <td>1282N</td>\n",
       "    </tr>\n",
       "  </tbody>\n",
       "</table>\n",
       "</div>"
      ],
      "text/plain": [
       "        COIL_NO PRDSPC_ID PNSPRC_CD  WDT_LEN  WGT_WGT   IND_CD  OUD_LEN  \\\n",
       "0  07KC1022111A  SCP1-H-B      AN10    392.0     5688  1260508     1616   \n",
       "1  07KC1022211A  SCP1-H-B      AN10    392.0     5688  1260508     1616   \n",
       "2  07KC1022311A  SCP1-H-B      AN10    392.0     5688  1260508     1616   \n",
       "3   07KK1D22111  SCP1-H-B      AN10   1228.0    17479  1260400     1571   \n",
       "4   09KA1B77311  SCP1-H-B      AN11    309.0     4811  1260508     1668   \n",
       "\n",
       "   STL_CD EMG_CD  \n",
       "0   10021  1282N  \n",
       "1   10021  1282N  \n",
       "2   10021  1282N  \n",
       "3   10021    NaN  \n",
       "4   10021  1282N  "
      ]
     },
     "execution_count": 585,
     "metadata": {},
     "output_type": "execute_result"
    }
   ],
   "source": [
    "coil_mip_df_copy = coil_mip_df.copy()\n",
    "coil_mip_df_selected_columns = coil_mip_df_copy[[\"COIL_NO\",\"PRDSPC_ID\", \"PNSPRC_CD\", \"WDT_LEN\",\"WGT_WGT\",\"IND_CD\",\"OUD_LEN\",\"STL_CD\",\"EMG_CD\"]]\n",
    "coil_mip_df_selected_columns.head()"
   ]
  },
  {
   "cell_type": "markdown",
   "metadata": {},
   "source": [
    "*EMG_CD : 해당 재고의 긴급 작업 해당 유무\n",
    "- 1282Y, 1282S : 긴급O\n",
    "- 1282N : 긴급X"
   ]
  },
  {
   "cell_type": "markdown",
   "metadata": {},
   "source": [
    "결측치 확인"
   ]
  },
  {
   "cell_type": "code",
   "execution_count": 586,
   "metadata": {},
   "outputs": [
    {
     "data": {
      "text/plain": [
       "COIL_NO      0\n",
       "PRDSPC_ID    0\n",
       "PNSPRC_CD    0\n",
       "WDT_LEN      0\n",
       "WGT_WGT      0\n",
       "IND_CD       0\n",
       "OUD_LEN      0\n",
       "STL_CD       0\n",
       "EMG_CD       1\n",
       "dtype: int64"
      ]
     },
     "execution_count": 586,
     "metadata": {},
     "output_type": "execute_result"
    }
   ],
   "source": [
    "coil_mip_df_selected_columns.isnull().sum()"
   ]
  },
  {
   "cell_type": "markdown",
   "metadata": {},
   "source": [
    "#### **긴급 Column이 Nan인 결측치는 1282N으로 채우기**"
   ]
  },
  {
   "cell_type": "code",
   "execution_count": 587,
   "metadata": {},
   "outputs": [],
   "source": [
    "coil_mip_df_selected_columns['EMG_CD'].fillna('1282N', inplace = True)"
   ]
  },
  {
   "cell_type": "markdown",
   "metadata": {},
   "source": [
    "결측치 처리 확인"
   ]
  },
  {
   "cell_type": "code",
   "execution_count": 588,
   "metadata": {},
   "outputs": [
    {
     "data": {
      "text/plain": [
       "COIL_NO      0\n",
       "PRDSPC_ID    0\n",
       "PNSPRC_CD    0\n",
       "WDT_LEN      0\n",
       "WGT_WGT      0\n",
       "IND_CD       0\n",
       "OUD_LEN      0\n",
       "STL_CD       0\n",
       "EMG_CD       0\n",
       "dtype: int64"
      ]
     },
     "execution_count": 588,
     "metadata": {},
     "output_type": "execute_result"
    }
   ],
   "source": [
    "coil_mip_df_selected_columns.isnull().sum()"
   ]
  },
  {
   "cell_type": "markdown",
   "metadata": {},
   "source": [
    "## 코일 무게 단위 바꾸기\n",
    "### kg -> Ton"
   ]
  },
  {
   "cell_type": "code",
   "execution_count": 589,
   "metadata": {},
   "outputs": [],
   "source": [
    "coil_mip_df_selected_columns[\"WGT_WGT\"] = coil_mip_df_selected_columns[\"WGT_WGT\"]/1000"
   ]
  },
  {
   "cell_type": "markdown",
   "metadata": {},
   "source": [
    "긴급한 데이터 비율 확인"
   ]
  },
  {
   "cell_type": "code",
   "execution_count": 590,
   "metadata": {},
   "outputs": [
    {
     "data": {
      "text/plain": [
       "1282N    329\n",
       "1282Y     48\n",
       "1282S     18\n",
       "Name: EMG_CD, dtype: int64"
      ]
     },
     "execution_count": 590,
     "metadata": {},
     "output_type": "execute_result"
    }
   ],
   "source": [
    "coil_mip_df_selected_columns[\"EMG_CD\"].value_counts()"
   ]
  },
  {
   "cell_type": "markdown",
   "metadata": {},
   "source": [
    "#### **special_cycle.csv 파일 불러오기**\n",
    "- 결측치 채우기"
   ]
  },
  {
   "cell_type": "code",
   "execution_count": 591,
   "metadata": {},
   "outputs": [
    {
     "data": {
      "text/html": [
       "<div>\n",
       "<style scoped>\n",
       "    .dataframe tbody tr th:only-of-type {\n",
       "        vertical-align: middle;\n",
       "    }\n",
       "\n",
       "    .dataframe tbody tr th {\n",
       "        vertical-align: top;\n",
       "    }\n",
       "\n",
       "    .dataframe thead th {\n",
       "        text-align: right;\n",
       "    }\n",
       "</style>\n",
       "<table border=\"1\" class=\"dataframe\">\n",
       "  <thead>\n",
       "    <tr style=\"text-align: right;\">\n",
       "      <th></th>\n",
       "      <th>고객사</th>\n",
       "      <th>제품 규격 코드</th>\n",
       "      <th>ANN0</th>\n",
       "      <th>ANN1</th>\n",
       "      <th>ANN2</th>\n",
       "      <th>ANN3</th>\n",
       "    </tr>\n",
       "  </thead>\n",
       "  <tbody>\n",
       "    <tr>\n",
       "      <th>0</th>\n",
       "      <td>한국보그워너티에스</td>\n",
       "      <td>DK800</td>\n",
       "      <td>작업지시서 소둔 Cycle 적용</td>\n",
       "      <td>작업지시서 소둔 Cycle 적용</td>\n",
       "      <td>작업지시서 소둔 Cycle 적용</td>\n",
       "      <td>작업지시서 소둔 Cycle 적용</td>\n",
       "    </tr>\n",
       "    <tr>\n",
       "      <th>1</th>\n",
       "      <td>UNIT TIDC INDIA</td>\n",
       "      <td>S700MC</td>\n",
       "      <td>작업지시서 소둔 Cycle 적용</td>\n",
       "      <td>작업지시서 소둔 Cycle 적용</td>\n",
       "      <td>작업지시서 소둔 Cycle 적용</td>\n",
       "      <td>작업지시서 소둔 Cycle 적용</td>\n",
       "    </tr>\n",
       "    <tr>\n",
       "      <th>2</th>\n",
       "      <td>FAURECIA(CHINA) / BROSE CHINA</td>\n",
       "      <td>H800LA</td>\n",
       "      <td>작업지시서 소둔 Cycle 적용</td>\n",
       "      <td>작업지시서 소둔 Cycle 적용</td>\n",
       "      <td>작업지시서 소둔 Cycle 적용</td>\n",
       "      <td>작업지시서 소둔 Cycle 적용</td>\n",
       "    </tr>\n",
       "  </tbody>\n",
       "</table>\n",
       "</div>"
      ],
      "text/plain": [
       "                             고객사 제품 규격 코드               ANN0  \\\n",
       "0                      한국보그워너티에스    DK800  작업지시서 소둔 Cycle 적용   \n",
       "1                UNIT TIDC INDIA   S700MC  작업지시서 소둔 Cycle 적용   \n",
       "2  FAURECIA(CHINA) / BROSE CHINA   H800LA  작업지시서 소둔 Cycle 적용   \n",
       "\n",
       "                ANN1               ANN2               ANN3  \n",
       "0  작업지시서 소둔 Cycle 적용  작업지시서 소둔 Cycle 적용  작업지시서 소둔 Cycle 적용  \n",
       "1  작업지시서 소둔 Cycle 적용  작업지시서 소둔 Cycle 적용  작업지시서 소둔 Cycle 적용  \n",
       "2  작업지시서 소둔 Cycle 적용  작업지시서 소둔 Cycle 적용  작업지시서 소둔 Cycle 적용  "
      ]
     },
     "execution_count": 591,
     "metadata": {},
     "output_type": "execute_result"
    }
   ],
   "source": [
    "special_cycle = pd.read_csv(\"./data/special_cycle.csv\")\n",
    "special_cycle_copy = special_cycle.fillna(\"-\")\n",
    "special_cycle_copy[:3]"
   ]
  },
  {
   "cell_type": "markdown",
   "metadata": {},
   "source": [
    "- ANNN 재공현황.csv와 합치기 위해 groupby를 통해 데이터 행 조정 1"
   ]
  },
  {
   "cell_type": "code",
   "execution_count": 592,
   "metadata": {},
   "outputs": [
    {
     "data": {
      "text/html": [
       "<div>\n",
       "<style scoped>\n",
       "    .dataframe tbody tr th:only-of-type {\n",
       "        vertical-align: middle;\n",
       "    }\n",
       "\n",
       "    .dataframe tbody tr th {\n",
       "        vertical-align: top;\n",
       "    }\n",
       "\n",
       "    .dataframe thead th {\n",
       "        text-align: right;\n",
       "    }\n",
       "</style>\n",
       "<table border=\"1\" class=\"dataframe\">\n",
       "  <thead>\n",
       "    <tr style=\"text-align: right;\">\n",
       "      <th></th>\n",
       "      <th></th>\n",
       "      <th>AN10</th>\n",
       "      <th>AN11</th>\n",
       "      <th>AN12</th>\n",
       "      <th>AN13</th>\n",
       "    </tr>\n",
       "    <tr>\n",
       "      <th>고객사</th>\n",
       "      <th>PRDSPC_ID</th>\n",
       "      <th></th>\n",
       "      <th></th>\n",
       "      <th></th>\n",
       "      <th></th>\n",
       "    </tr>\n",
       "  </thead>\n",
       "  <tbody>\n",
       "    <tr>\n",
       "      <th>한국보그워너티에스</th>\n",
       "      <th>DK800</th>\n",
       "      <td>작업지시서 소둔 Cycle 적용</td>\n",
       "      <td>작업지시서 소둔 Cycle 적용</td>\n",
       "      <td>작업지시서 소둔 Cycle 적용</td>\n",
       "      <td>작업지시서 소둔 Cycle 적용</td>\n",
       "    </tr>\n",
       "    <tr>\n",
       "      <th>UNIT TIDC INDIA</th>\n",
       "      <th>S700MC</th>\n",
       "      <td>작업지시서 소둔 Cycle 적용</td>\n",
       "      <td>작업지시서 소둔 Cycle 적용</td>\n",
       "      <td>작업지시서 소둔 Cycle 적용</td>\n",
       "      <td>작업지시서 소둔 Cycle 적용</td>\n",
       "    </tr>\n",
       "    <tr>\n",
       "      <th>FAURECIA(CHINA) / BROSE CHINA</th>\n",
       "      <th>H800LA</th>\n",
       "      <td>작업지시서 소둔 Cycle 적용</td>\n",
       "      <td>작업지시서 소둔 Cycle 적용</td>\n",
       "      <td>작업지시서 소둔 Cycle 적용</td>\n",
       "      <td>작업지시서 소둔 Cycle 적용</td>\n",
       "    </tr>\n",
       "    <tr>\n",
       "      <th>DYNAX CORP.</th>\n",
       "      <th>S55C-PA</th>\n",
       "      <td>-</td>\n",
       "      <td>620</td>\n",
       "      <td>620</td>\n",
       "      <td>620</td>\n",
       "    </tr>\n",
       "    <tr>\n",
       "      <th>한국보그워너티에스</th>\n",
       "      <th>S45CM-R</th>\n",
       "      <td>-</td>\n",
       "      <td>620</td>\n",
       "      <td>620</td>\n",
       "      <td>620</td>\n",
       "    </tr>\n",
       "  </tbody>\n",
       "</table>\n",
       "</div>"
      ],
      "text/plain": [
       "                                                      AN10               AN11  \\\n",
       "고객사                           PRDSPC_ID                                         \n",
       "한국보그워너티에스                     DK800      작업지시서 소둔 Cycle 적용  작업지시서 소둔 Cycle 적용   \n",
       "UNIT TIDC INDIA               S700MC     작업지시서 소둔 Cycle 적용  작업지시서 소둔 Cycle 적용   \n",
       "FAURECIA(CHINA) / BROSE CHINA H800LA     작업지시서 소둔 Cycle 적용  작업지시서 소둔 Cycle 적용   \n",
       "DYNAX CORP.                   S55C-PA                    -                620   \n",
       "한국보그워너티에스                     S45CM-R                    -                620   \n",
       "\n",
       "                                                      AN12               AN13  \n",
       "고객사                           PRDSPC_ID                                        \n",
       "한국보그워너티에스                     DK800      작업지시서 소둔 Cycle 적용  작업지시서 소둔 Cycle 적용  \n",
       "UNIT TIDC INDIA               S700MC     작업지시서 소둔 Cycle 적용  작업지시서 소둔 Cycle 적용  \n",
       "FAURECIA(CHINA) / BROSE CHINA H800LA     작업지시서 소둔 Cycle 적용  작업지시서 소둔 Cycle 적용  \n",
       "DYNAX CORP.                   S55C-PA                  620                620  \n",
       "한국보그워너티에스                     S45CM-R                  620                620  "
      ]
     },
     "execution_count": 592,
     "metadata": {},
     "output_type": "execute_result"
    }
   ],
   "source": [
    "special_cycle_copy.rename(columns={ special_cycle_copy.columns[1] : 'PRDSPC_ID',\n",
    "                                    special_cycle_copy.columns[2] : 'AN10',\n",
    "                                    special_cycle_copy.columns[3] : 'AN11',\n",
    "                                    special_cycle_copy.columns[4] : 'AN12',\n",
    "                                    special_cycle_copy.columns[5] : 'AN13',}, inplace=True)\n",
    "special_cycle_copy.set_index(['고객사','PRDSPC_ID'],inplace=True)\n",
    "special_cycle_copy.head()"
   ]
  },
  {
   "cell_type": "markdown",
   "metadata": {},
   "source": [
    "- ANNN 재공현황.csv와 합치기 위해 groupby를 통해 데이터 행 조정 2"
   ]
  },
  {
   "cell_type": "code",
   "execution_count": 593,
   "metadata": {},
   "outputs": [
    {
     "data": {
      "text/html": [
       "<div>\n",
       "<style scoped>\n",
       "    .dataframe tbody tr th:only-of-type {\n",
       "        vertical-align: middle;\n",
       "    }\n",
       "\n",
       "    .dataframe tbody tr th {\n",
       "        vertical-align: top;\n",
       "    }\n",
       "\n",
       "    .dataframe thead th {\n",
       "        text-align: right;\n",
       "    }\n",
       "</style>\n",
       "<table border=\"1\" class=\"dataframe\">\n",
       "  <thead>\n",
       "    <tr style=\"text-align: right;\">\n",
       "      <th></th>\n",
       "      <th>고객사</th>\n",
       "      <th>PRDSPC_ID</th>\n",
       "      <th>PNSPRC_CD</th>\n",
       "      <th>cycle</th>\n",
       "    </tr>\n",
       "  </thead>\n",
       "  <tbody>\n",
       "    <tr>\n",
       "      <th>0</th>\n",
       "      <td>한국보그워너티에스</td>\n",
       "      <td>DK800</td>\n",
       "      <td>AN10</td>\n",
       "      <td>작업지시서 소둔 Cycle 적용</td>\n",
       "    </tr>\n",
       "    <tr>\n",
       "      <th>1</th>\n",
       "      <td>한국보그워너티에스</td>\n",
       "      <td>DK800</td>\n",
       "      <td>AN11</td>\n",
       "      <td>작업지시서 소둔 Cycle 적용</td>\n",
       "    </tr>\n",
       "    <tr>\n",
       "      <th>2</th>\n",
       "      <td>한국보그워너티에스</td>\n",
       "      <td>DK800</td>\n",
       "      <td>AN12</td>\n",
       "      <td>작업지시서 소둔 Cycle 적용</td>\n",
       "    </tr>\n",
       "    <tr>\n",
       "      <th>3</th>\n",
       "      <td>한국보그워너티에스</td>\n",
       "      <td>DK800</td>\n",
       "      <td>AN13</td>\n",
       "      <td>작업지시서 소둔 Cycle 적용</td>\n",
       "    </tr>\n",
       "    <tr>\n",
       "      <th>4</th>\n",
       "      <td>UNIT TIDC INDIA</td>\n",
       "      <td>S700MC</td>\n",
       "      <td>AN10</td>\n",
       "      <td>작업지시서 소둔 Cycle 적용</td>\n",
       "    </tr>\n",
       "    <tr>\n",
       "      <th>...</th>\n",
       "      <td>...</td>\n",
       "      <td>...</td>\n",
       "      <td>...</td>\n",
       "      <td>...</td>\n",
       "    </tr>\n",
       "    <tr>\n",
       "      <th>111</th>\n",
       "      <td>(주)아스픽 / (주)엠알인프라오토</td>\n",
       "      <td>AISI4140M-S</td>\n",
       "      <td>AN13</td>\n",
       "      <td>750</td>\n",
       "    </tr>\n",
       "    <tr>\n",
       "      <th>112</th>\n",
       "      <td>유신정밀공업(주) / (주)화진금속</td>\n",
       "      <td>50CRV4M-S</td>\n",
       "      <td>AN10</td>\n",
       "      <td>750</td>\n",
       "    </tr>\n",
       "    <tr>\n",
       "      <th>113</th>\n",
       "      <td>유신정밀공업(주) / (주)화진금속</td>\n",
       "      <td>50CRV4M-S</td>\n",
       "      <td>AN11</td>\n",
       "      <td>750</td>\n",
       "    </tr>\n",
       "    <tr>\n",
       "      <th>114</th>\n",
       "      <td>유신정밀공업(주) / (주)화진금속</td>\n",
       "      <td>50CRV4M-S</td>\n",
       "      <td>AN12</td>\n",
       "      <td>750</td>\n",
       "    </tr>\n",
       "    <tr>\n",
       "      <th>115</th>\n",
       "      <td>유신정밀공업(주) / (주)화진금속</td>\n",
       "      <td>50CRV4M-S</td>\n",
       "      <td>AN13</td>\n",
       "      <td>750</td>\n",
       "    </tr>\n",
       "  </tbody>\n",
       "</table>\n",
       "<p>116 rows × 4 columns</p>\n",
       "</div>"
      ],
      "text/plain": [
       "                     고객사    PRDSPC_ID PNSPRC_CD              cycle\n",
       "0              한국보그워너티에스        DK800      AN10  작업지시서 소둔 Cycle 적용\n",
       "1              한국보그워너티에스        DK800      AN11  작업지시서 소둔 Cycle 적용\n",
       "2              한국보그워너티에스        DK800      AN12  작업지시서 소둔 Cycle 적용\n",
       "3              한국보그워너티에스        DK800      AN13  작업지시서 소둔 Cycle 적용\n",
       "4        UNIT TIDC INDIA       S700MC      AN10  작업지시서 소둔 Cycle 적용\n",
       "..                   ...          ...       ...                ...\n",
       "111  (주)아스픽 / (주)엠알인프라오토  AISI4140M-S      AN13                750\n",
       "112  유신정밀공업(주) / (주)화진금속    50CRV4M-S      AN10                750\n",
       "113  유신정밀공업(주) / (주)화진금속    50CRV4M-S      AN11                750\n",
       "114  유신정밀공업(주) / (주)화진금속    50CRV4M-S      AN12                750\n",
       "115  유신정밀공업(주) / (주)화진금속    50CRV4M-S      AN13                750\n",
       "\n",
       "[116 rows x 4 columns]"
      ]
     },
     "execution_count": 593,
     "metadata": {},
     "output_type": "execute_result"
    }
   ],
   "source": [
    "special_cycle_for_merge = pd.DataFrame(special_cycle_copy.stack()).reset_index()\n",
    "special_cycle_for_merge.rename(columns={'level_2' : 'PNSPRC_CD', 0 : 'cycle'}, inplace=True)\n",
    "special_cycle_for_merge"
   ]
  },
  {
   "cell_type": "markdown",
   "metadata": {},
   "source": [
    "#### **전처리된 두 df을 하나의 최종 df로 merge**"
   ]
  },
  {
   "cell_type": "markdown",
   "metadata": {},
   "source": [
    "#### **Coil grouping 기준 : ANN차수, 긴급 유무**\n",
    "- **ANN 재공현황.csv**와 **cycle에 관한 정보 파일**을 합쳐서 솔버에 적용시켜줄 데이터프레임을 생성"
   ]
  },
  {
   "cell_type": "code",
   "execution_count": 594,
   "metadata": {},
   "outputs": [
    {
     "data": {
      "text/html": [
       "<div>\n",
       "<style scoped>\n",
       "    .dataframe tbody tr th:only-of-type {\n",
       "        vertical-align: middle;\n",
       "    }\n",
       "\n",
       "    .dataframe tbody tr th {\n",
       "        vertical-align: top;\n",
       "    }\n",
       "\n",
       "    .dataframe thead th {\n",
       "        text-align: right;\n",
       "    }\n",
       "</style>\n",
       "<table border=\"1\" class=\"dataframe\">\n",
       "  <thead>\n",
       "    <tr style=\"text-align: right;\">\n",
       "      <th></th>\n",
       "      <th>COIL_NO</th>\n",
       "      <th>PRDSPC_ID</th>\n",
       "      <th>PNSPRC_CD</th>\n",
       "      <th>cycle</th>\n",
       "      <th>WDT_LEN</th>\n",
       "      <th>WGT_WGT</th>\n",
       "      <th>IND_CD</th>\n",
       "      <th>OUD_LEN</th>\n",
       "      <th>STL_CD</th>\n",
       "      <th>EMG_CD</th>\n",
       "      <th>고객사</th>\n",
       "    </tr>\n",
       "  </thead>\n",
       "  <tbody>\n",
       "    <tr>\n",
       "      <th>0</th>\n",
       "      <td>07KC1022111A</td>\n",
       "      <td>SCP1-H-B</td>\n",
       "      <td>AN10</td>\n",
       "      <td>NaN</td>\n",
       "      <td>392.0</td>\n",
       "      <td>5.688</td>\n",
       "      <td>1260508</td>\n",
       "      <td>1616</td>\n",
       "      <td>10021</td>\n",
       "      <td>1282N</td>\n",
       "      <td>NaN</td>\n",
       "    </tr>\n",
       "    <tr>\n",
       "      <th>1</th>\n",
       "      <td>07KC1022211A</td>\n",
       "      <td>SCP1-H-B</td>\n",
       "      <td>AN10</td>\n",
       "      <td>NaN</td>\n",
       "      <td>392.0</td>\n",
       "      <td>5.688</td>\n",
       "      <td>1260508</td>\n",
       "      <td>1616</td>\n",
       "      <td>10021</td>\n",
       "      <td>1282N</td>\n",
       "      <td>NaN</td>\n",
       "    </tr>\n",
       "    <tr>\n",
       "      <th>2</th>\n",
       "      <td>07KC1022311A</td>\n",
       "      <td>SCP1-H-B</td>\n",
       "      <td>AN10</td>\n",
       "      <td>NaN</td>\n",
       "      <td>392.0</td>\n",
       "      <td>5.688</td>\n",
       "      <td>1260508</td>\n",
       "      <td>1616</td>\n",
       "      <td>10021</td>\n",
       "      <td>1282N</td>\n",
       "      <td>NaN</td>\n",
       "    </tr>\n",
       "    <tr>\n",
       "      <th>3</th>\n",
       "      <td>07KK1D22111</td>\n",
       "      <td>SCP1-H-B</td>\n",
       "      <td>AN10</td>\n",
       "      <td>NaN</td>\n",
       "      <td>1228.0</td>\n",
       "      <td>17.479</td>\n",
       "      <td>1260400</td>\n",
       "      <td>1571</td>\n",
       "      <td>10021</td>\n",
       "      <td>1282N</td>\n",
       "      <td>NaN</td>\n",
       "    </tr>\n",
       "    <tr>\n",
       "      <th>4</th>\n",
       "      <td>09KA1B77311</td>\n",
       "      <td>SCP1-H-B</td>\n",
       "      <td>AN11</td>\n",
       "      <td>NaN</td>\n",
       "      <td>309.0</td>\n",
       "      <td>4.811</td>\n",
       "      <td>1260508</td>\n",
       "      <td>1668</td>\n",
       "      <td>10021</td>\n",
       "      <td>1282N</td>\n",
       "      <td>NaN</td>\n",
       "    </tr>\n",
       "    <tr>\n",
       "      <th>...</th>\n",
       "      <td>...</td>\n",
       "      <td>...</td>\n",
       "      <td>...</td>\n",
       "      <td>...</td>\n",
       "      <td>...</td>\n",
       "      <td>...</td>\n",
       "      <td>...</td>\n",
       "      <td>...</td>\n",
       "      <td>...</td>\n",
       "      <td>...</td>\n",
       "      <td>...</td>\n",
       "    </tr>\n",
       "    <tr>\n",
       "      <th>390</th>\n",
       "      <td>22J120212111A</td>\n",
       "      <td>SAE1055M-R</td>\n",
       "      <td>AN10</td>\n",
       "      <td>NaN</td>\n",
       "      <td>368.0</td>\n",
       "      <td>5.556</td>\n",
       "      <td>1260508</td>\n",
       "      <td>1645</td>\n",
       "      <td>10022</td>\n",
       "      <td>1282N</td>\n",
       "      <td>NaN</td>\n",
       "    </tr>\n",
       "    <tr>\n",
       "      <th>391</th>\n",
       "      <td>22J120213111A</td>\n",
       "      <td>SAE1055M-R</td>\n",
       "      <td>AN10</td>\n",
       "      <td>NaN</td>\n",
       "      <td>317.0</td>\n",
       "      <td>4.786</td>\n",
       "      <td>1260508</td>\n",
       "      <td>1645</td>\n",
       "      <td>10022</td>\n",
       "      <td>1282N</td>\n",
       "      <td>NaN</td>\n",
       "    </tr>\n",
       "    <tr>\n",
       "      <th>392</th>\n",
       "      <td>22J12072111</td>\n",
       "      <td>SAE1070M-S</td>\n",
       "      <td>AN10</td>\n",
       "      <td>NaN</td>\n",
       "      <td>1240.0</td>\n",
       "      <td>21.250</td>\n",
       "      <td>1260762</td>\n",
       "      <td>1833</td>\n",
       "      <td>10022</td>\n",
       "      <td>1282N</td>\n",
       "      <td>NaN</td>\n",
       "    </tr>\n",
       "    <tr>\n",
       "      <th>393</th>\n",
       "      <td>22J13014111</td>\n",
       "      <td>100CR6</td>\n",
       "      <td>AN10</td>\n",
       "      <td>750*Max</td>\n",
       "      <td>1090.0</td>\n",
       "      <td>21.470</td>\n",
       "      <td>1260762</td>\n",
       "      <td>1943</td>\n",
       "      <td>10023</td>\n",
       "      <td>1282N</td>\n",
       "      <td>(주)지에스앤티 / 한국엔에스케이</td>\n",
       "    </tr>\n",
       "    <tr>\n",
       "      <th>394</th>\n",
       "      <td>22J13014112</td>\n",
       "      <td>100CR6</td>\n",
       "      <td>AN10</td>\n",
       "      <td>750*Max</td>\n",
       "      <td>1090.0</td>\n",
       "      <td>20.580</td>\n",
       "      <td>1260762</td>\n",
       "      <td>1909</td>\n",
       "      <td>10023</td>\n",
       "      <td>1282N</td>\n",
       "      <td>(주)지에스앤티 / 한국엔에스케이</td>\n",
       "    </tr>\n",
       "  </tbody>\n",
       "</table>\n",
       "<p>395 rows × 11 columns</p>\n",
       "</div>"
      ],
      "text/plain": [
       "           COIL_NO   PRDSPC_ID PNSPRC_CD    cycle  WDT_LEN  WGT_WGT   IND_CD  \\\n",
       "0     07KC1022111A    SCP1-H-B      AN10      NaN    392.0    5.688  1260508   \n",
       "1     07KC1022211A    SCP1-H-B      AN10      NaN    392.0    5.688  1260508   \n",
       "2     07KC1022311A    SCP1-H-B      AN10      NaN    392.0    5.688  1260508   \n",
       "3      07KK1D22111    SCP1-H-B      AN10      NaN   1228.0   17.479  1260400   \n",
       "4      09KA1B77311    SCP1-H-B      AN11      NaN    309.0    4.811  1260508   \n",
       "..             ...         ...       ...      ...      ...      ...      ...   \n",
       "390  22J120212111A  SAE1055M-R      AN10      NaN    368.0    5.556  1260508   \n",
       "391  22J120213111A  SAE1055M-R      AN10      NaN    317.0    4.786  1260508   \n",
       "392    22J12072111  SAE1070M-S      AN10      NaN   1240.0   21.250  1260762   \n",
       "393    22J13014111      100CR6      AN10  750*Max   1090.0   21.470  1260762   \n",
       "394    22J13014112      100CR6      AN10  750*Max   1090.0   20.580  1260762   \n",
       "\n",
       "     OUD_LEN  STL_CD EMG_CD                 고객사  \n",
       "0       1616   10021  1282N                 NaN  \n",
       "1       1616   10021  1282N                 NaN  \n",
       "2       1616   10021  1282N                 NaN  \n",
       "3       1571   10021  1282N                 NaN  \n",
       "4       1668   10021  1282N                 NaN  \n",
       "..       ...     ...    ...                 ...  \n",
       "390     1645   10022  1282N                 NaN  \n",
       "391     1645   10022  1282N                 NaN  \n",
       "392     1833   10022  1282N                 NaN  \n",
       "393     1943   10023  1282N  (주)지에스앤티 / 한국엔에스케이  \n",
       "394     1909   10023  1282N  (주)지에스앤티 / 한국엔에스케이  \n",
       "\n",
       "[395 rows x 11 columns]"
      ]
     },
     "execution_count": 594,
     "metadata": {},
     "output_type": "execute_result"
    }
   ],
   "source": [
    "merged_df= pd.merge(coil_mip_df_selected_columns, special_cycle_for_merge, on=['PRDSPC_ID', 'PNSPRC_CD'], how='left')\n",
    "#merged_data = pd.merge(sorted_by_ANN, special_cycle_test_copy, left_on='PRDSPC_ID', right_on='제품 규격 코드',how='left')\n",
    "merged_df = merged_df[[\"COIL_NO\",\"PRDSPC_ID\", \"PNSPRC_CD\", \"cycle\", \"WDT_LEN\",\"WGT_WGT\",\"IND_CD\",\"OUD_LEN\",\"STL_CD\",\"EMG_CD\",\"고객사\"]]\n",
    "merged_df"
   ]
  },
  {
   "cell_type": "markdown",
   "metadata": {},
   "source": [
    "### **merged_df의 cycle열 결측치 보완**"
   ]
  },
  {
   "cell_type": "code",
   "execution_count": 595,
   "metadata": {},
   "outputs": [
    {
     "data": {
      "text/plain": [
       "COIL_NO        0\n",
       "PRDSPC_ID      0\n",
       "PNSPRC_CD      0\n",
       "cycle        307\n",
       "WDT_LEN        0\n",
       "WGT_WGT        0\n",
       "IND_CD         0\n",
       "OUD_LEN        0\n",
       "STL_CD         0\n",
       "EMG_CD         0\n",
       "고객사          307\n",
       "dtype: int64"
      ]
     },
     "execution_count": 595,
     "metadata": {},
     "output_type": "execute_result"
    }
   ],
   "source": [
    "merged_df.isnull().sum()"
   ]
  },
  {
   "cell_type": "markdown",
   "metadata": {},
   "source": [
    "- cycle열의 결측치는 일반cycle에 관한 내용. 기존에 존재하는 데이터로 보완\n",
    "\n",
    "**[ 10021 : 일반강 ]**\n",
    "- ANN 0차 : X\n",
    "- ANN 1차 이상 : 620\n",
    "\n",
    "**[ 10022 : SC강 ]**\n",
    "- ANN 0차 : 725\n",
    "- ANN 1차 이상 : 700\n",
    "\n",
    "**[ 10023 : SK강 ]**\n",
    "- ANN 0차 : 735\n",
    "- ANN 1차 이상 : 735\n"
   ]
  },
  {
   "cell_type": "code",
   "execution_count": 596,
   "metadata": {},
   "outputs": [],
   "source": [
    "merged_df['cycle'] = np.where((merged_df['PNSPRC_CD'] == 'AN10') & (merged_df['STL_CD'] == 10021) & (merged_df['cycle'].isnull()), \"-\", merged_df['cycle'])\n",
    "merged_df['cycle'] = np.where((merged_df['PNSPRC_CD'] != 'AN10') & (merged_df['STL_CD'] == 10021) & (merged_df['cycle'].isnull()), \"620\", merged_df['cycle'])\n",
    "\n",
    "merged_df['cycle'] = np.where((merged_df['PNSPRC_CD'] == 'AN10') & (merged_df['STL_CD'] == 10022) & (merged_df['cycle'].isnull()), \"725\", merged_df['cycle'])\n",
    "merged_df['cycle'] = np.where((merged_df['PNSPRC_CD'] != 'AN10') & (merged_df['STL_CD'] == 10022) & (merged_df['cycle'].isnull()), \"700\", merged_df['cycle'])\n",
    "\n",
    "merged_df['cycle'] = np.where((merged_df['PNSPRC_CD'] == 'AN10') & (merged_df['STL_CD'] == 10023) & (merged_df['cycle'].isnull()), \"735\", merged_df['cycle'])\n",
    "merged_df['cycle'] = np.where((merged_df['PNSPRC_CD'] != 'AN10') & (merged_df['STL_CD'] == 10023) & (merged_df['cycle'].isnull()), \"735\", merged_df['cycle'])"
   ]
  },
  {
   "cell_type": "code",
   "execution_count": 597,
   "metadata": {},
   "outputs": [
    {
     "data": {
      "text/plain": [
       "COIL_NO        0\n",
       "PRDSPC_ID      0\n",
       "PNSPRC_CD      0\n",
       "cycle          0\n",
       "WDT_LEN        0\n",
       "WGT_WGT        0\n",
       "IND_CD         0\n",
       "OUD_LEN        0\n",
       "STL_CD         0\n",
       "EMG_CD         0\n",
       "고객사          307\n",
       "dtype: int64"
      ]
     },
     "execution_count": 597,
     "metadata": {},
     "output_type": "execute_result"
    }
   ],
   "source": [
    "merged_df.isnull().sum()"
   ]
  },
  {
   "cell_type": "markdown",
   "metadata": {},
   "source": [
    "#### **cycle열의 '-' 값을 가진 행은 drop**"
   ]
  },
  {
   "cell_type": "code",
   "execution_count": 598,
   "metadata": {},
   "outputs": [
    {
     "data": {
      "text/html": [
       "<div>\n",
       "<style scoped>\n",
       "    .dataframe tbody tr th:only-of-type {\n",
       "        vertical-align: middle;\n",
       "    }\n",
       "\n",
       "    .dataframe tbody tr th {\n",
       "        vertical-align: top;\n",
       "    }\n",
       "\n",
       "    .dataframe thead th {\n",
       "        text-align: right;\n",
       "    }\n",
       "</style>\n",
       "<table border=\"1\" class=\"dataframe\">\n",
       "  <thead>\n",
       "    <tr style=\"text-align: right;\">\n",
       "      <th></th>\n",
       "      <th>COIL_NO</th>\n",
       "      <th>PRDSPC_ID</th>\n",
       "      <th>PNSPRC_CD</th>\n",
       "      <th>cycle</th>\n",
       "      <th>WDT_LEN</th>\n",
       "      <th>WGT_WGT</th>\n",
       "      <th>IND_CD</th>\n",
       "      <th>OUD_LEN</th>\n",
       "      <th>STL_CD</th>\n",
       "      <th>EMG_CD</th>\n",
       "      <th>고객사</th>\n",
       "    </tr>\n",
       "  </thead>\n",
       "  <tbody>\n",
       "    <tr>\n",
       "      <th>4</th>\n",
       "      <td>09KA1B77311</td>\n",
       "      <td>SCP1-H-B</td>\n",
       "      <td>AN11</td>\n",
       "      <td>620</td>\n",
       "      <td>309.0</td>\n",
       "      <td>4.811</td>\n",
       "      <td>1260508</td>\n",
       "      <td>1668</td>\n",
       "      <td>10021</td>\n",
       "      <td>1282N</td>\n",
       "      <td>NaN</td>\n",
       "    </tr>\n",
       "    <tr>\n",
       "      <th>5</th>\n",
       "      <td>21M12B721111A</td>\n",
       "      <td>S45CM-S</td>\n",
       "      <td>AN11</td>\n",
       "      <td>700</td>\n",
       "      <td>157.0</td>\n",
       "      <td>1.376</td>\n",
       "      <td>1260400</td>\n",
       "      <td>1290</td>\n",
       "      <td>10022</td>\n",
       "      <td>1282N</td>\n",
       "      <td>NaN</td>\n",
       "    </tr>\n",
       "    <tr>\n",
       "      <th>6</th>\n",
       "      <td>21M12D061111A</td>\n",
       "      <td>50CRV4M-S</td>\n",
       "      <td>AN10</td>\n",
       "      <td>750</td>\n",
       "      <td>248.0</td>\n",
       "      <td>2.091</td>\n",
       "      <td>1260508</td>\n",
       "      <td>1275</td>\n",
       "      <td>10022</td>\n",
       "      <td>1282S</td>\n",
       "      <td>유신정밀공업(주) / (주)화진금속</td>\n",
       "    </tr>\n",
       "    <tr>\n",
       "      <th>7</th>\n",
       "      <td>22A122851111A</td>\n",
       "      <td>S55CM-R</td>\n",
       "      <td>AN10</td>\n",
       "      <td>725</td>\n",
       "      <td>410.0</td>\n",
       "      <td>5.121</td>\n",
       "      <td>1260508</td>\n",
       "      <td>1511</td>\n",
       "      <td>10022</td>\n",
       "      <td>1282N</td>\n",
       "      <td>NaN</td>\n",
       "    </tr>\n",
       "    <tr>\n",
       "      <th>8</th>\n",
       "      <td>22A122852111A</td>\n",
       "      <td>S55CM-R</td>\n",
       "      <td>AN10</td>\n",
       "      <td>725</td>\n",
       "      <td>410.0</td>\n",
       "      <td>5.121</td>\n",
       "      <td>1260508</td>\n",
       "      <td>1511</td>\n",
       "      <td>10022</td>\n",
       "      <td>1282N</td>\n",
       "      <td>NaN</td>\n",
       "    </tr>\n",
       "    <tr>\n",
       "      <th>...</th>\n",
       "      <td>...</td>\n",
       "      <td>...</td>\n",
       "      <td>...</td>\n",
       "      <td>...</td>\n",
       "      <td>...</td>\n",
       "      <td>...</td>\n",
       "      <td>...</td>\n",
       "      <td>...</td>\n",
       "      <td>...</td>\n",
       "      <td>...</td>\n",
       "      <td>...</td>\n",
       "    </tr>\n",
       "    <tr>\n",
       "      <th>390</th>\n",
       "      <td>22J120212111A</td>\n",
       "      <td>SAE1055M-R</td>\n",
       "      <td>AN10</td>\n",
       "      <td>725</td>\n",
       "      <td>368.0</td>\n",
       "      <td>5.556</td>\n",
       "      <td>1260508</td>\n",
       "      <td>1645</td>\n",
       "      <td>10022</td>\n",
       "      <td>1282N</td>\n",
       "      <td>NaN</td>\n",
       "    </tr>\n",
       "    <tr>\n",
       "      <th>391</th>\n",
       "      <td>22J120213111A</td>\n",
       "      <td>SAE1055M-R</td>\n",
       "      <td>AN10</td>\n",
       "      <td>725</td>\n",
       "      <td>317.0</td>\n",
       "      <td>4.786</td>\n",
       "      <td>1260508</td>\n",
       "      <td>1645</td>\n",
       "      <td>10022</td>\n",
       "      <td>1282N</td>\n",
       "      <td>NaN</td>\n",
       "    </tr>\n",
       "    <tr>\n",
       "      <th>392</th>\n",
       "      <td>22J12072111</td>\n",
       "      <td>SAE1070M-S</td>\n",
       "      <td>AN10</td>\n",
       "      <td>725</td>\n",
       "      <td>1240.0</td>\n",
       "      <td>21.250</td>\n",
       "      <td>1260762</td>\n",
       "      <td>1833</td>\n",
       "      <td>10022</td>\n",
       "      <td>1282N</td>\n",
       "      <td>NaN</td>\n",
       "    </tr>\n",
       "    <tr>\n",
       "      <th>393</th>\n",
       "      <td>22J13014111</td>\n",
       "      <td>100CR6</td>\n",
       "      <td>AN10</td>\n",
       "      <td>750*Max</td>\n",
       "      <td>1090.0</td>\n",
       "      <td>21.470</td>\n",
       "      <td>1260762</td>\n",
       "      <td>1943</td>\n",
       "      <td>10023</td>\n",
       "      <td>1282N</td>\n",
       "      <td>(주)지에스앤티 / 한국엔에스케이</td>\n",
       "    </tr>\n",
       "    <tr>\n",
       "      <th>394</th>\n",
       "      <td>22J13014112</td>\n",
       "      <td>100CR6</td>\n",
       "      <td>AN10</td>\n",
       "      <td>750*Max</td>\n",
       "      <td>1090.0</td>\n",
       "      <td>20.580</td>\n",
       "      <td>1260762</td>\n",
       "      <td>1909</td>\n",
       "      <td>10023</td>\n",
       "      <td>1282N</td>\n",
       "      <td>(주)지에스앤티 / 한국엔에스케이</td>\n",
       "    </tr>\n",
       "  </tbody>\n",
       "</table>\n",
       "<p>391 rows × 11 columns</p>\n",
       "</div>"
      ],
      "text/plain": [
       "           COIL_NO   PRDSPC_ID PNSPRC_CD    cycle  WDT_LEN  WGT_WGT   IND_CD  \\\n",
       "4      09KA1B77311    SCP1-H-B      AN11      620    309.0    4.811  1260508   \n",
       "5    21M12B721111A     S45CM-S      AN11      700    157.0    1.376  1260400   \n",
       "6    21M12D061111A   50CRV4M-S      AN10      750    248.0    2.091  1260508   \n",
       "7    22A122851111A     S55CM-R      AN10      725    410.0    5.121  1260508   \n",
       "8    22A122852111A     S55CM-R      AN10      725    410.0    5.121  1260508   \n",
       "..             ...         ...       ...      ...      ...      ...      ...   \n",
       "390  22J120212111A  SAE1055M-R      AN10      725    368.0    5.556  1260508   \n",
       "391  22J120213111A  SAE1055M-R      AN10      725    317.0    4.786  1260508   \n",
       "392    22J12072111  SAE1070M-S      AN10      725   1240.0   21.250  1260762   \n",
       "393    22J13014111      100CR6      AN10  750*Max   1090.0   21.470  1260762   \n",
       "394    22J13014112      100CR6      AN10  750*Max   1090.0   20.580  1260762   \n",
       "\n",
       "     OUD_LEN  STL_CD EMG_CD                  고객사  \n",
       "4       1668   10021  1282N                  NaN  \n",
       "5       1290   10022  1282N                  NaN  \n",
       "6       1275   10022  1282S  유신정밀공업(주) / (주)화진금속  \n",
       "7       1511   10022  1282N                  NaN  \n",
       "8       1511   10022  1282N                  NaN  \n",
       "..       ...     ...    ...                  ...  \n",
       "390     1645   10022  1282N                  NaN  \n",
       "391     1645   10022  1282N                  NaN  \n",
       "392     1833   10022  1282N                  NaN  \n",
       "393     1943   10023  1282N   (주)지에스앤티 / 한국엔에스케이  \n",
       "394     1909   10023  1282N   (주)지에스앤티 / 한국엔에스케이  \n",
       "\n",
       "[391 rows x 11 columns]"
      ]
     },
     "execution_count": 598,
     "metadata": {},
     "output_type": "execute_result"
    }
   ],
   "source": [
    "drop_column_index = merged_df[merged_df[\"cycle\"].str.contains(\"-\")].index\n",
    "merged_df.drop(drop_column_index, inplace=True)\n",
    "merged_df"
   ]
  },
  {
   "cell_type": "markdown",
   "metadata": {},
   "source": [
    "#### **외경 열에서 이상치 제거**"
   ]
  },
  {
   "cell_type": "code",
   "execution_count": 599,
   "metadata": {},
   "outputs": [
    {
     "data": {
      "text/plain": [
       "1260508    195\n",
       "1260610    192\n",
       "1260762      3\n",
       "1260400      1\n",
       "Name: IND_CD, dtype: int64"
      ]
     },
     "execution_count": 599,
     "metadata": {},
     "output_type": "execute_result"
    }
   ],
   "source": [
    "merged_df[\"IND_CD\"].value_counts()"
   ]
  },
  {
   "cell_type": "code",
   "execution_count": 600,
   "metadata": {},
   "outputs": [],
   "source": [
    "drop_index = merged_df[(merged_df[\"IND_CD\"] == 1260762)|(merged_df[\"IND_CD\"] == 1260400)].index\n",
    "merged_df.drop(drop_index, inplace=True)"
   ]
  },
  {
   "cell_type": "code",
   "execution_count": 601,
   "metadata": {},
   "outputs": [
    {
     "data": {
      "text/plain": [
       "1260508    195\n",
       "1260610    192\n",
       "Name: IND_CD, dtype: int64"
      ]
     },
     "execution_count": 601,
     "metadata": {},
     "output_type": "execute_result"
    }
   ],
   "source": [
    "merged_df[\"IND_CD\"].value_counts()"
   ]
  },
  {
   "cell_type": "markdown",
   "metadata": {},
   "source": [
    "- 내경 데이터 형태 수정\n",
    "- 1260508 -> 508 : 앞 4자리 슬라이싱"
   ]
  },
  {
   "cell_type": "code",
   "execution_count": 602,
   "metadata": {},
   "outputs": [
    {
     "data": {
      "text/html": [
       "<div>\n",
       "<style scoped>\n",
       "    .dataframe tbody tr th:only-of-type {\n",
       "        vertical-align: middle;\n",
       "    }\n",
       "\n",
       "    .dataframe tbody tr th {\n",
       "        vertical-align: top;\n",
       "    }\n",
       "\n",
       "    .dataframe thead th {\n",
       "        text-align: right;\n",
       "    }\n",
       "</style>\n",
       "<table border=\"1\" class=\"dataframe\">\n",
       "  <thead>\n",
       "    <tr style=\"text-align: right;\">\n",
       "      <th></th>\n",
       "      <th>COIL_NO</th>\n",
       "      <th>PRDSPC_ID</th>\n",
       "      <th>PNSPRC_CD</th>\n",
       "      <th>cycle</th>\n",
       "      <th>WDT_LEN</th>\n",
       "      <th>WGT_WGT</th>\n",
       "      <th>IND_CD</th>\n",
       "      <th>OUD_LEN</th>\n",
       "      <th>STL_CD</th>\n",
       "      <th>EMG_CD</th>\n",
       "      <th>고객사</th>\n",
       "    </tr>\n",
       "  </thead>\n",
       "  <tbody>\n",
       "    <tr>\n",
       "      <th>4</th>\n",
       "      <td>09KA1B77311</td>\n",
       "      <td>SCP1-H-B</td>\n",
       "      <td>AN11</td>\n",
       "      <td>620</td>\n",
       "      <td>309.0</td>\n",
       "      <td>4.811</td>\n",
       "      <td>1260508</td>\n",
       "      <td>1668</td>\n",
       "      <td>10021</td>\n",
       "      <td>1282N</td>\n",
       "      <td>NaN</td>\n",
       "    </tr>\n",
       "    <tr>\n",
       "      <th>6</th>\n",
       "      <td>21M12D061111A</td>\n",
       "      <td>50CRV4M-S</td>\n",
       "      <td>AN10</td>\n",
       "      <td>750</td>\n",
       "      <td>248.0</td>\n",
       "      <td>2.091</td>\n",
       "      <td>1260508</td>\n",
       "      <td>1275</td>\n",
       "      <td>10022</td>\n",
       "      <td>1282S</td>\n",
       "      <td>유신정밀공업(주) / (주)화진금속</td>\n",
       "    </tr>\n",
       "    <tr>\n",
       "      <th>7</th>\n",
       "      <td>22A122851111A</td>\n",
       "      <td>S55CM-R</td>\n",
       "      <td>AN10</td>\n",
       "      <td>725</td>\n",
       "      <td>410.0</td>\n",
       "      <td>5.121</td>\n",
       "      <td>1260508</td>\n",
       "      <td>1511</td>\n",
       "      <td>10022</td>\n",
       "      <td>1282N</td>\n",
       "      <td>NaN</td>\n",
       "    </tr>\n",
       "    <tr>\n",
       "      <th>8</th>\n",
       "      <td>22A122852111A</td>\n",
       "      <td>S55CM-R</td>\n",
       "      <td>AN10</td>\n",
       "      <td>725</td>\n",
       "      <td>410.0</td>\n",
       "      <td>5.121</td>\n",
       "      <td>1260508</td>\n",
       "      <td>1511</td>\n",
       "      <td>10022</td>\n",
       "      <td>1282N</td>\n",
       "      <td>NaN</td>\n",
       "    </tr>\n",
       "    <tr>\n",
       "      <th>9</th>\n",
       "      <td>22A122853111A</td>\n",
       "      <td>S55CM-R</td>\n",
       "      <td>AN10</td>\n",
       "      <td>725</td>\n",
       "      <td>210.0</td>\n",
       "      <td>2.623</td>\n",
       "      <td>1260508</td>\n",
       "      <td>1511</td>\n",
       "      <td>10022</td>\n",
       "      <td>1282N</td>\n",
       "      <td>NaN</td>\n",
       "    </tr>\n",
       "  </tbody>\n",
       "</table>\n",
       "</div>"
      ],
      "text/plain": [
       "         COIL_NO  PRDSPC_ID PNSPRC_CD cycle  WDT_LEN  WGT_WGT   IND_CD  \\\n",
       "4    09KA1B77311   SCP1-H-B      AN11   620    309.0    4.811  1260508   \n",
       "6  21M12D061111A  50CRV4M-S      AN10   750    248.0    2.091  1260508   \n",
       "7  22A122851111A    S55CM-R      AN10   725    410.0    5.121  1260508   \n",
       "8  22A122852111A    S55CM-R      AN10   725    410.0    5.121  1260508   \n",
       "9  22A122853111A    S55CM-R      AN10   725    210.0    2.623  1260508   \n",
       "\n",
       "   OUD_LEN  STL_CD EMG_CD                  고객사  \n",
       "4     1668   10021  1282N                  NaN  \n",
       "6     1275   10022  1282S  유신정밀공업(주) / (주)화진금속  \n",
       "7     1511   10022  1282N                  NaN  \n",
       "8     1511   10022  1282N                  NaN  \n",
       "9     1511   10022  1282N                  NaN  "
      ]
     },
     "execution_count": 602,
     "metadata": {},
     "output_type": "execute_result"
    }
   ],
   "source": [
    "merged_df = merged_df.astype({\"IND_CD\" : \"str\"})\n",
    "merged_df.head()"
   ]
  },
  {
   "cell_type": "code",
   "execution_count": 603,
   "metadata": {},
   "outputs": [],
   "source": [
    "merged_df['IND_CD'] = merged_df['IND_CD'].str.slice(4,7)"
   ]
  },
  {
   "cell_type": "code",
   "execution_count": 604,
   "metadata": {},
   "outputs": [
    {
     "data": {
      "text/plain": [
       "508    195\n",
       "610    192\n",
       "Name: IND_CD, dtype: int64"
      ]
     },
     "execution_count": 604,
     "metadata": {},
     "output_type": "execute_result"
    }
   ],
   "source": [
    "merged_df[\"IND_CD\"].value_counts()"
   ]
  },
  {
   "cell_type": "code",
   "execution_count": 605,
   "metadata": {},
   "outputs": [],
   "source": [
    "merged_df.reset_index(drop=True, inplace= True)"
   ]
  },
  {
   "cell_type": "code",
   "execution_count": 606,
   "metadata": {},
   "outputs": [
    {
     "data": {
      "text/html": [
       "<div>\n",
       "<style scoped>\n",
       "    .dataframe tbody tr th:only-of-type {\n",
       "        vertical-align: middle;\n",
       "    }\n",
       "\n",
       "    .dataframe tbody tr th {\n",
       "        vertical-align: top;\n",
       "    }\n",
       "\n",
       "    .dataframe thead th {\n",
       "        text-align: right;\n",
       "    }\n",
       "</style>\n",
       "<table border=\"1\" class=\"dataframe\">\n",
       "  <thead>\n",
       "    <tr style=\"text-align: right;\">\n",
       "      <th></th>\n",
       "      <th>COIL_NO</th>\n",
       "      <th>PRDSPC_ID</th>\n",
       "      <th>PNSPRC_CD</th>\n",
       "      <th>cycle</th>\n",
       "      <th>WDT_LEN</th>\n",
       "      <th>WGT_WGT</th>\n",
       "      <th>IND_CD</th>\n",
       "      <th>OUD_LEN</th>\n",
       "      <th>STL_CD</th>\n",
       "      <th>EMG_CD</th>\n",
       "      <th>고객사</th>\n",
       "    </tr>\n",
       "  </thead>\n",
       "  <tbody>\n",
       "    <tr>\n",
       "      <th>0</th>\n",
       "      <td>09KA1B77311</td>\n",
       "      <td>SCP1-H-B</td>\n",
       "      <td>AN11</td>\n",
       "      <td>620</td>\n",
       "      <td>309.0</td>\n",
       "      <td>4.811</td>\n",
       "      <td>508</td>\n",
       "      <td>1668</td>\n",
       "      <td>10021</td>\n",
       "      <td>1282N</td>\n",
       "      <td>NaN</td>\n",
       "    </tr>\n",
       "    <tr>\n",
       "      <th>1</th>\n",
       "      <td>21M12D061111A</td>\n",
       "      <td>50CRV4M-S</td>\n",
       "      <td>AN10</td>\n",
       "      <td>750</td>\n",
       "      <td>248.0</td>\n",
       "      <td>2.091</td>\n",
       "      <td>508</td>\n",
       "      <td>1275</td>\n",
       "      <td>10022</td>\n",
       "      <td>1282S</td>\n",
       "      <td>유신정밀공업(주) / (주)화진금속</td>\n",
       "    </tr>\n",
       "    <tr>\n",
       "      <th>2</th>\n",
       "      <td>22A122851111A</td>\n",
       "      <td>S55CM-R</td>\n",
       "      <td>AN10</td>\n",
       "      <td>725</td>\n",
       "      <td>410.0</td>\n",
       "      <td>5.121</td>\n",
       "      <td>508</td>\n",
       "      <td>1511</td>\n",
       "      <td>10022</td>\n",
       "      <td>1282N</td>\n",
       "      <td>NaN</td>\n",
       "    </tr>\n",
       "    <tr>\n",
       "      <th>3</th>\n",
       "      <td>22A122852111A</td>\n",
       "      <td>S55CM-R</td>\n",
       "      <td>AN10</td>\n",
       "      <td>725</td>\n",
       "      <td>410.0</td>\n",
       "      <td>5.121</td>\n",
       "      <td>508</td>\n",
       "      <td>1511</td>\n",
       "      <td>10022</td>\n",
       "      <td>1282N</td>\n",
       "      <td>NaN</td>\n",
       "    </tr>\n",
       "    <tr>\n",
       "      <th>4</th>\n",
       "      <td>22A122853111A</td>\n",
       "      <td>S55CM-R</td>\n",
       "      <td>AN10</td>\n",
       "      <td>725</td>\n",
       "      <td>210.0</td>\n",
       "      <td>2.623</td>\n",
       "      <td>508</td>\n",
       "      <td>1511</td>\n",
       "      <td>10022</td>\n",
       "      <td>1282N</td>\n",
       "      <td>NaN</td>\n",
       "    </tr>\n",
       "    <tr>\n",
       "      <th>...</th>\n",
       "      <td>...</td>\n",
       "      <td>...</td>\n",
       "      <td>...</td>\n",
       "      <td>...</td>\n",
       "      <td>...</td>\n",
       "      <td>...</td>\n",
       "      <td>...</td>\n",
       "      <td>...</td>\n",
       "      <td>...</td>\n",
       "      <td>...</td>\n",
       "      <td>...</td>\n",
       "    </tr>\n",
       "    <tr>\n",
       "      <th>382</th>\n",
       "      <td>22J120202111A</td>\n",
       "      <td>SAE1055M-R</td>\n",
       "      <td>AN10</td>\n",
       "      <td>725</td>\n",
       "      <td>354.0</td>\n",
       "      <td>5.027</td>\n",
       "      <td>508</td>\n",
       "      <td>1600</td>\n",
       "      <td>10022</td>\n",
       "      <td>1282N</td>\n",
       "      <td>NaN</td>\n",
       "    </tr>\n",
       "    <tr>\n",
       "      <th>383</th>\n",
       "      <td>22J120203111A</td>\n",
       "      <td>SAE1055M-R</td>\n",
       "      <td>AN10</td>\n",
       "      <td>725</td>\n",
       "      <td>323.0</td>\n",
       "      <td>4.587</td>\n",
       "      <td>508</td>\n",
       "      <td>1600</td>\n",
       "      <td>10022</td>\n",
       "      <td>1282N</td>\n",
       "      <td>NaN</td>\n",
       "    </tr>\n",
       "    <tr>\n",
       "      <th>384</th>\n",
       "      <td>22J120211111A</td>\n",
       "      <td>SAE1055M-R</td>\n",
       "      <td>AN10</td>\n",
       "      <td>725</td>\n",
       "      <td>317.0</td>\n",
       "      <td>4.786</td>\n",
       "      <td>508</td>\n",
       "      <td>1645</td>\n",
       "      <td>10022</td>\n",
       "      <td>1282N</td>\n",
       "      <td>NaN</td>\n",
       "    </tr>\n",
       "    <tr>\n",
       "      <th>385</th>\n",
       "      <td>22J120212111A</td>\n",
       "      <td>SAE1055M-R</td>\n",
       "      <td>AN10</td>\n",
       "      <td>725</td>\n",
       "      <td>368.0</td>\n",
       "      <td>5.556</td>\n",
       "      <td>508</td>\n",
       "      <td>1645</td>\n",
       "      <td>10022</td>\n",
       "      <td>1282N</td>\n",
       "      <td>NaN</td>\n",
       "    </tr>\n",
       "    <tr>\n",
       "      <th>386</th>\n",
       "      <td>22J120213111A</td>\n",
       "      <td>SAE1055M-R</td>\n",
       "      <td>AN10</td>\n",
       "      <td>725</td>\n",
       "      <td>317.0</td>\n",
       "      <td>4.786</td>\n",
       "      <td>508</td>\n",
       "      <td>1645</td>\n",
       "      <td>10022</td>\n",
       "      <td>1282N</td>\n",
       "      <td>NaN</td>\n",
       "    </tr>\n",
       "  </tbody>\n",
       "</table>\n",
       "<p>387 rows × 11 columns</p>\n",
       "</div>"
      ],
      "text/plain": [
       "           COIL_NO   PRDSPC_ID PNSPRC_CD cycle  WDT_LEN  WGT_WGT IND_CD  \\\n",
       "0      09KA1B77311    SCP1-H-B      AN11   620    309.0    4.811    508   \n",
       "1    21M12D061111A   50CRV4M-S      AN10   750    248.0    2.091    508   \n",
       "2    22A122851111A     S55CM-R      AN10   725    410.0    5.121    508   \n",
       "3    22A122852111A     S55CM-R      AN10   725    410.0    5.121    508   \n",
       "4    22A122853111A     S55CM-R      AN10   725    210.0    2.623    508   \n",
       "..             ...         ...       ...   ...      ...      ...    ...   \n",
       "382  22J120202111A  SAE1055M-R      AN10   725    354.0    5.027    508   \n",
       "383  22J120203111A  SAE1055M-R      AN10   725    323.0    4.587    508   \n",
       "384  22J120211111A  SAE1055M-R      AN10   725    317.0    4.786    508   \n",
       "385  22J120212111A  SAE1055M-R      AN10   725    368.0    5.556    508   \n",
       "386  22J120213111A  SAE1055M-R      AN10   725    317.0    4.786    508   \n",
       "\n",
       "     OUD_LEN  STL_CD EMG_CD                  고객사  \n",
       "0       1668   10021  1282N                  NaN  \n",
       "1       1275   10022  1282S  유신정밀공업(주) / (주)화진금속  \n",
       "2       1511   10022  1282N                  NaN  \n",
       "3       1511   10022  1282N                  NaN  \n",
       "4       1511   10022  1282N                  NaN  \n",
       "..       ...     ...    ...                  ...  \n",
       "382     1600   10022  1282N                  NaN  \n",
       "383     1600   10022  1282N                  NaN  \n",
       "384     1645   10022  1282N                  NaN  \n",
       "385     1645   10022  1282N                  NaN  \n",
       "386     1645   10022  1282N                  NaN  \n",
       "\n",
       "[387 rows x 11 columns]"
      ]
     },
     "execution_count": 606,
     "metadata": {},
     "output_type": "execute_result"
    }
   ],
   "source": [
    "merged_df"
   ]
  },
  {
   "cell_type": "code",
   "execution_count": 607,
   "metadata": {},
   "outputs": [],
   "source": [
    "merged_df.to_csv(\"./data/coil_information.csv\", sep=\",\", na_rep = \"NaN\")"
   ]
  },
  {
   "cell_type": "markdown",
   "metadata": {},
   "source": [
    "\n",
    "<br><br><br><br>\n",
    "\n",
    "---\n",
    "\n",
    "<br><br><br><br>\n"
   ]
  },
  {
   "cell_type": "code",
   "execution_count": 608,
   "metadata": {},
   "outputs": [
    {
     "data": {
      "text/html": [
       "<div>\n",
       "<style scoped>\n",
       "    .dataframe tbody tr th:only-of-type {\n",
       "        vertical-align: middle;\n",
       "    }\n",
       "\n",
       "    .dataframe tbody tr th {\n",
       "        vertical-align: top;\n",
       "    }\n",
       "\n",
       "    .dataframe thead th {\n",
       "        text-align: right;\n",
       "    }\n",
       "</style>\n",
       "<table border=\"1\" class=\"dataframe\">\n",
       "  <thead>\n",
       "    <tr style=\"text-align: right;\">\n",
       "      <th></th>\n",
       "      <th>COIL_NO</th>\n",
       "      <th>PRDSPC_ID</th>\n",
       "      <th>PNSPRC_CD</th>\n",
       "      <th>cycle</th>\n",
       "      <th>WDT_LEN</th>\n",
       "      <th>WGT_WGT</th>\n",
       "      <th>IND_CD</th>\n",
       "      <th>OUD_LEN</th>\n",
       "      <th>STL_CD</th>\n",
       "      <th>EMG_CD</th>\n",
       "      <th>고객사</th>\n",
       "    </tr>\n",
       "  </thead>\n",
       "  <tbody>\n",
       "    <tr>\n",
       "      <th>0</th>\n",
       "      <td>09KA1B77311</td>\n",
       "      <td>SCP1-H-B</td>\n",
       "      <td>AN11</td>\n",
       "      <td>620</td>\n",
       "      <td>309.0</td>\n",
       "      <td>4.811</td>\n",
       "      <td>508</td>\n",
       "      <td>1668</td>\n",
       "      <td>10021</td>\n",
       "      <td>1282N</td>\n",
       "      <td>NaN</td>\n",
       "    </tr>\n",
       "    <tr>\n",
       "      <th>1</th>\n",
       "      <td>21M12D061111A</td>\n",
       "      <td>50CRV4M-S</td>\n",
       "      <td>AN10</td>\n",
       "      <td>750</td>\n",
       "      <td>248.0</td>\n",
       "      <td>2.091</td>\n",
       "      <td>508</td>\n",
       "      <td>1275</td>\n",
       "      <td>10022</td>\n",
       "      <td>1282S</td>\n",
       "      <td>유신정밀공업(주) / (주)화진금속</td>\n",
       "    </tr>\n",
       "    <tr>\n",
       "      <th>2</th>\n",
       "      <td>22A122851111A</td>\n",
       "      <td>S55CM-R</td>\n",
       "      <td>AN10</td>\n",
       "      <td>725</td>\n",
       "      <td>410.0</td>\n",
       "      <td>5.121</td>\n",
       "      <td>508</td>\n",
       "      <td>1511</td>\n",
       "      <td>10022</td>\n",
       "      <td>1282N</td>\n",
       "      <td>NaN</td>\n",
       "    </tr>\n",
       "    <tr>\n",
       "      <th>3</th>\n",
       "      <td>22A122852111A</td>\n",
       "      <td>S55CM-R</td>\n",
       "      <td>AN10</td>\n",
       "      <td>725</td>\n",
       "      <td>410.0</td>\n",
       "      <td>5.121</td>\n",
       "      <td>508</td>\n",
       "      <td>1511</td>\n",
       "      <td>10022</td>\n",
       "      <td>1282N</td>\n",
       "      <td>NaN</td>\n",
       "    </tr>\n",
       "    <tr>\n",
       "      <th>4</th>\n",
       "      <td>22A122853111A</td>\n",
       "      <td>S55CM-R</td>\n",
       "      <td>AN10</td>\n",
       "      <td>725</td>\n",
       "      <td>210.0</td>\n",
       "      <td>2.623</td>\n",
       "      <td>508</td>\n",
       "      <td>1511</td>\n",
       "      <td>10022</td>\n",
       "      <td>1282N</td>\n",
       "      <td>NaN</td>\n",
       "    </tr>\n",
       "    <tr>\n",
       "      <th>...</th>\n",
       "      <td>...</td>\n",
       "      <td>...</td>\n",
       "      <td>...</td>\n",
       "      <td>...</td>\n",
       "      <td>...</td>\n",
       "      <td>...</td>\n",
       "      <td>...</td>\n",
       "      <td>...</td>\n",
       "      <td>...</td>\n",
       "      <td>...</td>\n",
       "      <td>...</td>\n",
       "    </tr>\n",
       "    <tr>\n",
       "      <th>382</th>\n",
       "      <td>22J120202111A</td>\n",
       "      <td>SAE1055M-R</td>\n",
       "      <td>AN10</td>\n",
       "      <td>725</td>\n",
       "      <td>354.0</td>\n",
       "      <td>5.027</td>\n",
       "      <td>508</td>\n",
       "      <td>1600</td>\n",
       "      <td>10022</td>\n",
       "      <td>1282N</td>\n",
       "      <td>NaN</td>\n",
       "    </tr>\n",
       "    <tr>\n",
       "      <th>383</th>\n",
       "      <td>22J120203111A</td>\n",
       "      <td>SAE1055M-R</td>\n",
       "      <td>AN10</td>\n",
       "      <td>725</td>\n",
       "      <td>323.0</td>\n",
       "      <td>4.587</td>\n",
       "      <td>508</td>\n",
       "      <td>1600</td>\n",
       "      <td>10022</td>\n",
       "      <td>1282N</td>\n",
       "      <td>NaN</td>\n",
       "    </tr>\n",
       "    <tr>\n",
       "      <th>384</th>\n",
       "      <td>22J120211111A</td>\n",
       "      <td>SAE1055M-R</td>\n",
       "      <td>AN10</td>\n",
       "      <td>725</td>\n",
       "      <td>317.0</td>\n",
       "      <td>4.786</td>\n",
       "      <td>508</td>\n",
       "      <td>1645</td>\n",
       "      <td>10022</td>\n",
       "      <td>1282N</td>\n",
       "      <td>NaN</td>\n",
       "    </tr>\n",
       "    <tr>\n",
       "      <th>385</th>\n",
       "      <td>22J120212111A</td>\n",
       "      <td>SAE1055M-R</td>\n",
       "      <td>AN10</td>\n",
       "      <td>725</td>\n",
       "      <td>368.0</td>\n",
       "      <td>5.556</td>\n",
       "      <td>508</td>\n",
       "      <td>1645</td>\n",
       "      <td>10022</td>\n",
       "      <td>1282N</td>\n",
       "      <td>NaN</td>\n",
       "    </tr>\n",
       "    <tr>\n",
       "      <th>386</th>\n",
       "      <td>22J120213111A</td>\n",
       "      <td>SAE1055M-R</td>\n",
       "      <td>AN10</td>\n",
       "      <td>725</td>\n",
       "      <td>317.0</td>\n",
       "      <td>4.786</td>\n",
       "      <td>508</td>\n",
       "      <td>1645</td>\n",
       "      <td>10022</td>\n",
       "      <td>1282N</td>\n",
       "      <td>NaN</td>\n",
       "    </tr>\n",
       "  </tbody>\n",
       "</table>\n",
       "<p>387 rows × 11 columns</p>\n",
       "</div>"
      ],
      "text/plain": [
       "           COIL_NO   PRDSPC_ID PNSPRC_CD cycle  WDT_LEN  WGT_WGT  IND_CD  \\\n",
       "0      09KA1B77311    SCP1-H-B      AN11   620    309.0    4.811     508   \n",
       "1    21M12D061111A   50CRV4M-S      AN10   750    248.0    2.091     508   \n",
       "2    22A122851111A     S55CM-R      AN10   725    410.0    5.121     508   \n",
       "3    22A122852111A     S55CM-R      AN10   725    410.0    5.121     508   \n",
       "4    22A122853111A     S55CM-R      AN10   725    210.0    2.623     508   \n",
       "..             ...         ...       ...   ...      ...      ...     ...   \n",
       "382  22J120202111A  SAE1055M-R      AN10   725    354.0    5.027     508   \n",
       "383  22J120203111A  SAE1055M-R      AN10   725    323.0    4.587     508   \n",
       "384  22J120211111A  SAE1055M-R      AN10   725    317.0    4.786     508   \n",
       "385  22J120212111A  SAE1055M-R      AN10   725    368.0    5.556     508   \n",
       "386  22J120213111A  SAE1055M-R      AN10   725    317.0    4.786     508   \n",
       "\n",
       "     OUD_LEN  STL_CD EMG_CD                  고객사  \n",
       "0       1668   10021  1282N                  NaN  \n",
       "1       1275   10022  1282S  유신정밀공업(주) / (주)화진금속  \n",
       "2       1511   10022  1282N                  NaN  \n",
       "3       1511   10022  1282N                  NaN  \n",
       "4       1511   10022  1282N                  NaN  \n",
       "..       ...     ...    ...                  ...  \n",
       "382     1600   10022  1282N                  NaN  \n",
       "383     1600   10022  1282N                  NaN  \n",
       "384     1645   10022  1282N                  NaN  \n",
       "385     1645   10022  1282N                  NaN  \n",
       "386     1645   10022  1282N                  NaN  \n",
       "\n",
       "[387 rows x 11 columns]"
      ]
     },
     "execution_count": 608,
     "metadata": {},
     "output_type": "execute_result"
    }
   ],
   "source": [
    "df = pd.read_csv(\"./data/coil_information.csv\")\n",
    "df.drop(\"Unnamed: 0\", axis=1, inplace=True)\n",
    "data_df = df.copy()\n",
    "data_df"
   ]
  },
  {
   "cell_type": "markdown",
   "metadata": {},
   "source": [
    "- Coil Numeber"
   ]
  },
  {
   "cell_type": "code",
   "execution_count": 609,
   "metadata": {},
   "outputs": [
    {
     "data": {
      "text/plain": [
       "['09KA1B77311',\n",
       " '21M12D061111A',\n",
       " '22A122851111A',\n",
       " '22A122852111A',\n",
       " '22A122853111A']"
      ]
     },
     "execution_count": 609,
     "metadata": {},
     "output_type": "execute_result"
    }
   ],
   "source": [
    "coil_number = data_df[\"COIL_NO\"].tolist()\n",
    "coil_number[:5]"
   ]
  },
  {
   "cell_type": "markdown",
   "metadata": {},
   "source": [
    "- ANN 차수"
   ]
  },
  {
   "cell_type": "code",
   "execution_count": 610,
   "metadata": {},
   "outputs": [
    {
     "data": {
      "text/plain": [
       "['AN11', 'AN10', 'AN10', 'AN10', 'AN10']"
      ]
     },
     "execution_count": 610,
     "metadata": {},
     "output_type": "execute_result"
    }
   ],
   "source": [
    "ann_number = data_df[\"PNSPRC_CD\"].tolist()\n",
    "ann_number[:5]"
   ]
  },
  {
   "cell_type": "markdown",
   "metadata": {},
   "source": [
    "- cycle"
   ]
  },
  {
   "cell_type": "code",
   "execution_count": 611,
   "metadata": {},
   "outputs": [
    {
     "data": {
      "text/plain": [
       "['620', '750', '725', '725', '725']"
      ]
     },
     "execution_count": 611,
     "metadata": {},
     "output_type": "execute_result"
    }
   ],
   "source": [
    "cycle = data_df[\"cycle\"].tolist()\n",
    "cycle[:5]"
   ]
  },
  {
   "cell_type": "markdown",
   "metadata": {},
   "source": [
    "- Coil 폭"
   ]
  },
  {
   "cell_type": "code",
   "execution_count": 612,
   "metadata": {},
   "outputs": [
    {
     "data": {
      "text/plain": [
       "[309.0, 248.0, 410.0, 410.0, 210.0]"
      ]
     },
     "execution_count": 612,
     "metadata": {},
     "output_type": "execute_result"
    }
   ],
   "source": [
    "coil_length = data_df[\"WDT_LEN\"].tolist()\n",
    "coil_length[:5]"
   ]
  },
  {
   "cell_type": "markdown",
   "metadata": {},
   "source": [
    "- Coil 무게"
   ]
  },
  {
   "cell_type": "code",
   "execution_count": 613,
   "metadata": {},
   "outputs": [
    {
     "data": {
      "text/plain": [
       "[4.811, 2.091, 5.121, 5.121, 2.623]"
      ]
     },
     "execution_count": 613,
     "metadata": {},
     "output_type": "execute_result"
    }
   ],
   "source": [
    "coil_weight = data_df[\"WGT_WGT\"].tolist()\n",
    "coil_weight[:5]"
   ]
  },
  {
   "cell_type": "markdown",
   "metadata": {},
   "source": [
    "- Coil 내경"
   ]
  },
  {
   "cell_type": "code",
   "execution_count": 614,
   "metadata": {},
   "outputs": [
    {
     "data": {
      "text/plain": [
       "[508, 508, 508, 508, 508]"
      ]
     },
     "execution_count": 614,
     "metadata": {},
     "output_type": "execute_result"
    }
   ],
   "source": [
    "coil_inner = data_df[\"IND_CD\"].tolist()\n",
    "coil_inner[:5]"
   ]
  },
  {
   "cell_type": "markdown",
   "metadata": {},
   "source": [
    "- Coil 외경"
   ]
  },
  {
   "cell_type": "code",
   "execution_count": 615,
   "metadata": {},
   "outputs": [
    {
     "data": {
      "text/plain": [
       "[1668, 1275, 1511, 1511, 1511]"
      ]
     },
     "execution_count": 615,
     "metadata": {},
     "output_type": "execute_result"
    }
   ],
   "source": [
    "coil_outer = data_df[\"OUD_LEN\"].tolist()\n",
    "coil_outer[:5]"
   ]
  },
  {
   "cell_type": "markdown",
   "metadata": {},
   "source": [
    "- Coil 긴급 유무"
   ]
  },
  {
   "cell_type": "code",
   "execution_count": 690,
   "metadata": {},
   "outputs": [
    {
     "data": {
      "text/plain": [
       "['1282N', '1282S', '1282N', '1282N', '1282N']"
      ]
     },
     "execution_count": 690,
     "metadata": {},
     "output_type": "execute_result"
    }
   ],
   "source": [
    "coil_emergency = data_df[\"EMG_CD\"].tolist()\n",
    "coil_emergency[:5]\n",
    "\n",
    "# ann차수, cycle을 통한 여러개의 조합들 중, 해당하는 열이 없는 조합일 때는 그냥 스킵만 해줄까 ?"
   ]
  },
  {
   "cell_type": "markdown",
   "metadata": {},
   "source": [
    "\n",
    "<br><br><br><br>\n",
    "\n",
    "---\n",
    "\n",
    "<br><br><br><br>\n"
   ]
  },
  {
   "cell_type": "markdown",
   "metadata": {},
   "source": [
    "### **[ 전처리 2 : 베이스 capacity 정보에 관한 데이터프레임 생성 및 그룹핑 ]**"
   ]
  },
  {
   "cell_type": "code",
   "execution_count": 691,
   "metadata": {},
   "outputs": [
    {
     "name": "stdout",
     "output_type": "stream",
     "text": [
      "(52, 51)\n"
     ]
    },
    {
     "data": {
      "text/html": [
       "<div>\n",
       "<style scoped>\n",
       "    .dataframe tbody tr th:only-of-type {\n",
       "        vertical-align: middle;\n",
       "    }\n",
       "\n",
       "    .dataframe tbody tr th {\n",
       "        vertical-align: top;\n",
       "    }\n",
       "\n",
       "    .dataframe thead th {\n",
       "        text-align: right;\n",
       "    }\n",
       "</style>\n",
       "<table border=\"1\" class=\"dataframe\">\n",
       "  <thead>\n",
       "    <tr style=\"text-align: right;\">\n",
       "      <th></th>\n",
       "      <th>BAS_GBN</th>\n",
       "      <th>BAS_GBN_NM</th>\n",
       "      <th>BAS_GRP</th>\n",
       "      <th>BAS_GRP_NM</th>\n",
       "      <th>BAS_NO</th>\n",
       "      <th>BAS_NM</th>\n",
       "      <th>LOD_DT</th>\n",
       "      <th>LODCAL_YMD</th>\n",
       "      <th>BAS_CNT</th>\n",
       "      <th>WRKSTS_CD</th>\n",
       "      <th>...</th>\n",
       "      <th>CRT_DT</th>\n",
       "      <th>CRTCHR_NO</th>\n",
       "      <th>UPD_DT</th>\n",
       "      <th>UPDCHR_NO</th>\n",
       "      <th>LODWRKTEAM_VAL</th>\n",
       "      <th>LODWRKTEAM_VAL_NM</th>\n",
       "      <th>OUTWRKTEAM_VAL</th>\n",
       "      <th>OUTWRKTEAM_VAL_NM</th>\n",
       "      <th>ZON_CD</th>\n",
       "      <th>ZON_NM</th>\n",
       "    </tr>\n",
       "  </thead>\n",
       "  <tbody>\n",
       "    <tr>\n",
       "      <th>0</th>\n",
       "      <td>12672</td>\n",
       "      <td>수소로</td>\n",
       "      <td>1405E1</td>\n",
       "      <td>1~6수소로</td>\n",
       "      <td>1060KBE01</td>\n",
       "      <td>EBNER 1번 BASE</td>\n",
       "      <td>2022-09-03 18:47:00</td>\n",
       "      <td>20220903</td>\n",
       "      <td>4016</td>\n",
       "      <td>1066E</td>\n",
       "      <td>...</td>\n",
       "      <td>2022-09-03 18:47:53</td>\n",
       "      <td>이승용</td>\n",
       "      <td>2022-09-05 04:56:37</td>\n",
       "      <td>김백수</td>\n",
       "      <td>11183</td>\n",
       "      <td>C조</td>\n",
       "      <td>NaN</td>\n",
       "      <td>NaN</td>\n",
       "      <td>1510P</td>\n",
       "      <td>포항공장</td>\n",
       "    </tr>\n",
       "    <tr>\n",
       "      <th>1</th>\n",
       "      <td>12672</td>\n",
       "      <td>수소로</td>\n",
       "      <td>1405E1</td>\n",
       "      <td>1~6수소로</td>\n",
       "      <td>1060KBE02</td>\n",
       "      <td>EBNER 2번 BASE</td>\n",
       "      <td>2022-09-05 08:35:00</td>\n",
       "      <td>20220905</td>\n",
       "      <td>4115</td>\n",
       "      <td>1066C</td>\n",
       "      <td>...</td>\n",
       "      <td>2022-09-05 08:35:28</td>\n",
       "      <td>김백수</td>\n",
       "      <td>2022-09-05 17:54:46</td>\n",
       "      <td>김백수</td>\n",
       "      <td>11184</td>\n",
       "      <td>D조</td>\n",
       "      <td>NaN</td>\n",
       "      <td>NaN</td>\n",
       "      <td>1510P</td>\n",
       "      <td>포항공장</td>\n",
       "    </tr>\n",
       "    <tr>\n",
       "      <th>2</th>\n",
       "      <td>12672</td>\n",
       "      <td>수소로</td>\n",
       "      <td>1405E1</td>\n",
       "      <td>1~6수소로</td>\n",
       "      <td>1060KBE03</td>\n",
       "      <td>EBNER 3번 BASE</td>\n",
       "      <td>2022-09-04 23:35:00</td>\n",
       "      <td>20220904</td>\n",
       "      <td>3265</td>\n",
       "      <td>1066E</td>\n",
       "      <td>...</td>\n",
       "      <td>2022-09-04 23:35:51</td>\n",
       "      <td>김백수</td>\n",
       "      <td>2022-09-06 03:30:52</td>\n",
       "      <td>김백수</td>\n",
       "      <td>11181</td>\n",
       "      <td>A조</td>\n",
       "      <td>NaN</td>\n",
       "      <td>NaN</td>\n",
       "      <td>1510P</td>\n",
       "      <td>포항공장</td>\n",
       "    </tr>\n",
       "    <tr>\n",
       "      <th>3</th>\n",
       "      <td>12672</td>\n",
       "      <td>수소로</td>\n",
       "      <td>1405E1</td>\n",
       "      <td>1~6수소로</td>\n",
       "      <td>1060KBE04</td>\n",
       "      <td>EBNER 4번 BASE</td>\n",
       "      <td>2022-09-02 16:08:00</td>\n",
       "      <td>20220902</td>\n",
       "      <td>2569</td>\n",
       "      <td>1066E</td>\n",
       "      <td>...</td>\n",
       "      <td>2022-09-02 16:10:52</td>\n",
       "      <td>이승용</td>\n",
       "      <td>2022-09-04 10:45:08</td>\n",
       "      <td>김백수</td>\n",
       "      <td>11183</td>\n",
       "      <td>C조</td>\n",
       "      <td>NaN</td>\n",
       "      <td>NaN</td>\n",
       "      <td>1510P</td>\n",
       "      <td>포항공장</td>\n",
       "    </tr>\n",
       "    <tr>\n",
       "      <th>4</th>\n",
       "      <td>12672</td>\n",
       "      <td>수소로</td>\n",
       "      <td>1405E1</td>\n",
       "      <td>1~6수소로</td>\n",
       "      <td>1060KBE05</td>\n",
       "      <td>EBNER 5번 BASE</td>\n",
       "      <td>2022-09-04 05:01:00</td>\n",
       "      <td>20220903</td>\n",
       "      <td>2645</td>\n",
       "      <td>1066E</td>\n",
       "      <td>...</td>\n",
       "      <td>2022-09-04 05:02:09</td>\n",
       "      <td>김백수</td>\n",
       "      <td>2022-09-05 04:57:40</td>\n",
       "      <td>김백수</td>\n",
       "      <td>11181</td>\n",
       "      <td>A조</td>\n",
       "      <td>NaN</td>\n",
       "      <td>NaN</td>\n",
       "      <td>1510P</td>\n",
       "      <td>포항공장</td>\n",
       "    </tr>\n",
       "  </tbody>\n",
       "</table>\n",
       "<p>5 rows × 51 columns</p>\n",
       "</div>"
      ],
      "text/plain": [
       "   BAS_GBN BAS_GBN_NM BAS_GRP BAS_GRP_NM     BAS_NO         BAS_NM  \\\n",
       "0    12672        수소로  1405E1     1~6수소로  1060KBE01  EBNER 1번 BASE   \n",
       "1    12672        수소로  1405E1     1~6수소로  1060KBE02  EBNER 2번 BASE   \n",
       "2    12672        수소로  1405E1     1~6수소로  1060KBE03  EBNER 3번 BASE   \n",
       "3    12672        수소로  1405E1     1~6수소로  1060KBE04  EBNER 4번 BASE   \n",
       "4    12672        수소로  1405E1     1~6수소로  1060KBE05  EBNER 5번 BASE   \n",
       "\n",
       "                LOD_DT  LODCAL_YMD  BAS_CNT WRKSTS_CD  ...  \\\n",
       "0  2022-09-03 18:47:00    20220903     4016     1066E  ...   \n",
       "1  2022-09-05 08:35:00    20220905     4115     1066C  ...   \n",
       "2  2022-09-04 23:35:00    20220904     3265     1066E  ...   \n",
       "3  2022-09-02 16:08:00    20220902     2569     1066E  ...   \n",
       "4  2022-09-04 05:01:00    20220903     2645     1066E  ...   \n",
       "\n",
       "                CRT_DT CRTCHR_NO               UPD_DT UPDCHR_NO  \\\n",
       "0  2022-09-03 18:47:53       이승용  2022-09-05 04:56:37       김백수   \n",
       "1  2022-09-05 08:35:28       김백수  2022-09-05 17:54:46       김백수   \n",
       "2  2022-09-04 23:35:51       김백수  2022-09-06 03:30:52       김백수   \n",
       "3  2022-09-02 16:10:52       이승용  2022-09-04 10:45:08       김백수   \n",
       "4  2022-09-04 05:02:09       김백수  2022-09-05 04:57:40       김백수   \n",
       "\n",
       "  LODWRKTEAM_VAL LODWRKTEAM_VAL_NM  OUTWRKTEAM_VAL OUTWRKTEAM_VAL_NM  ZON_CD  \\\n",
       "0          11183                C조             NaN               NaN   1510P   \n",
       "1          11184                D조             NaN               NaN   1510P   \n",
       "2          11181                A조             NaN               NaN   1510P   \n",
       "3          11183                C조             NaN               NaN   1510P   \n",
       "4          11181                A조             NaN               NaN   1510P   \n",
       "\n",
       "  ZON_NM  \n",
       "0   포항공장  \n",
       "1   포항공장  \n",
       "2   포항공장  \n",
       "3   포항공장  \n",
       "4   포항공장  \n",
       "\n",
       "[5 rows x 51 columns]"
      ]
     },
     "execution_count": 691,
     "metadata": {},
     "output_type": "execute_result"
    }
   ],
   "source": [
    "batch_master = pd.read_csv(\"./data/ANN 적재 MAST.csv\")\n",
    "print(batch_master.shape)\n",
    "batch_master.head()"
   ]
  },
  {
   "cell_type": "code",
   "execution_count": 695,
   "metadata": {},
   "outputs": [],
   "source": [
    "batch_master['COL_DT'] = pd.to_datetime(batch_master['COL_DT']) "
   ]
  },
  {
   "cell_type": "markdown",
   "metadata": {},
   "source": [
    "- 각 베이스의 예상 작업종료시간을 나타내는 'COL_FIN_DT' 열을 생성"
   ]
  },
  {
   "cell_type": "code",
   "execution_count": 702,
   "metadata": {},
   "outputs": [],
   "source": [
    "batch_master['COL_FIN_DT'] = batch_master['COL_DT'] + pd.to_timedelta(batch_master['COLWRK_DUR'], unit='m')"
   ]
  },
  {
   "cell_type": "code",
   "execution_count": 704,
   "metadata": {},
   "outputs": [
    {
     "data": {
      "text/html": [
       "<div>\n",
       "<style scoped>\n",
       "    .dataframe tbody tr th:only-of-type {\n",
       "        vertical-align: middle;\n",
       "    }\n",
       "\n",
       "    .dataframe tbody tr th {\n",
       "        vertical-align: top;\n",
       "    }\n",
       "\n",
       "    .dataframe thead th {\n",
       "        text-align: right;\n",
       "    }\n",
       "</style>\n",
       "<table border=\"1\" class=\"dataframe\">\n",
       "  <thead>\n",
       "    <tr style=\"text-align: right;\">\n",
       "      <th></th>\n",
       "      <th>BAS_GBN</th>\n",
       "      <th>BAS_GBN_NM</th>\n",
       "      <th>BAS_GRP</th>\n",
       "      <th>BAS_GRP_NM</th>\n",
       "      <th>BAS_NO</th>\n",
       "      <th>BAS_NM</th>\n",
       "      <th>LOD_DT</th>\n",
       "      <th>LODCAL_YMD</th>\n",
       "      <th>BAS_CNT</th>\n",
       "      <th>WRKSTS_CD</th>\n",
       "      <th>...</th>\n",
       "      <th>CRTCHR_NO</th>\n",
       "      <th>UPD_DT</th>\n",
       "      <th>UPDCHR_NO</th>\n",
       "      <th>LODWRKTEAM_VAL</th>\n",
       "      <th>LODWRKTEAM_VAL_NM</th>\n",
       "      <th>OUTWRKTEAM_VAL</th>\n",
       "      <th>OUTWRKTEAM_VAL_NM</th>\n",
       "      <th>ZON_CD</th>\n",
       "      <th>ZON_NM</th>\n",
       "      <th>COL_FIN_DT</th>\n",
       "    </tr>\n",
       "  </thead>\n",
       "  <tbody>\n",
       "    <tr>\n",
       "      <th>0</th>\n",
       "      <td>12672</td>\n",
       "      <td>수소로</td>\n",
       "      <td>1405E1</td>\n",
       "      <td>1~6수소로</td>\n",
       "      <td>1060KBE01</td>\n",
       "      <td>EBNER 1번 BASE</td>\n",
       "      <td>2022-09-03 18:47:00</td>\n",
       "      <td>20220903</td>\n",
       "      <td>4016</td>\n",
       "      <td>1066E</td>\n",
       "      <td>...</td>\n",
       "      <td>이승용</td>\n",
       "      <td>2022-09-05 04:56:37</td>\n",
       "      <td>김백수</td>\n",
       "      <td>11183</td>\n",
       "      <td>C조</td>\n",
       "      <td>NaN</td>\n",
       "      <td>NaN</td>\n",
       "      <td>1510P</td>\n",
       "      <td>포항공장</td>\n",
       "      <td>2022-09-05 08:56:00</td>\n",
       "    </tr>\n",
       "    <tr>\n",
       "      <th>1</th>\n",
       "      <td>12672</td>\n",
       "      <td>수소로</td>\n",
       "      <td>1405E1</td>\n",
       "      <td>1~6수소로</td>\n",
       "      <td>1060KBE02</td>\n",
       "      <td>EBNER 2번 BASE</td>\n",
       "      <td>2022-09-05 08:35:00</td>\n",
       "      <td>20220905</td>\n",
       "      <td>4115</td>\n",
       "      <td>1066C</td>\n",
       "      <td>...</td>\n",
       "      <td>김백수</td>\n",
       "      <td>2022-09-05 17:54:46</td>\n",
       "      <td>김백수</td>\n",
       "      <td>11184</td>\n",
       "      <td>D조</td>\n",
       "      <td>NaN</td>\n",
       "      <td>NaN</td>\n",
       "      <td>1510P</td>\n",
       "      <td>포항공장</td>\n",
       "      <td>NaT</td>\n",
       "    </tr>\n",
       "    <tr>\n",
       "      <th>2</th>\n",
       "      <td>12672</td>\n",
       "      <td>수소로</td>\n",
       "      <td>1405E1</td>\n",
       "      <td>1~6수소로</td>\n",
       "      <td>1060KBE03</td>\n",
       "      <td>EBNER 3번 BASE</td>\n",
       "      <td>2022-09-04 23:35:00</td>\n",
       "      <td>20220904</td>\n",
       "      <td>3265</td>\n",
       "      <td>1066E</td>\n",
       "      <td>...</td>\n",
       "      <td>김백수</td>\n",
       "      <td>2022-09-06 03:30:52</td>\n",
       "      <td>김백수</td>\n",
       "      <td>11181</td>\n",
       "      <td>A조</td>\n",
       "      <td>NaN</td>\n",
       "      <td>NaN</td>\n",
       "      <td>1510P</td>\n",
       "      <td>포항공장</td>\n",
       "      <td>2022-09-06 15:00:00</td>\n",
       "    </tr>\n",
       "    <tr>\n",
       "      <th>3</th>\n",
       "      <td>12672</td>\n",
       "      <td>수소로</td>\n",
       "      <td>1405E1</td>\n",
       "      <td>1~6수소로</td>\n",
       "      <td>1060KBE04</td>\n",
       "      <td>EBNER 4번 BASE</td>\n",
       "      <td>2022-09-02 16:08:00</td>\n",
       "      <td>20220902</td>\n",
       "      <td>2569</td>\n",
       "      <td>1066E</td>\n",
       "      <td>...</td>\n",
       "      <td>이승용</td>\n",
       "      <td>2022-09-04 10:45:08</td>\n",
       "      <td>김백수</td>\n",
       "      <td>11183</td>\n",
       "      <td>C조</td>\n",
       "      <td>NaN</td>\n",
       "      <td>NaN</td>\n",
       "      <td>1510P</td>\n",
       "      <td>포항공장</td>\n",
       "      <td>2022-09-05 08:06:00</td>\n",
       "    </tr>\n",
       "    <tr>\n",
       "      <th>4</th>\n",
       "      <td>12672</td>\n",
       "      <td>수소로</td>\n",
       "      <td>1405E1</td>\n",
       "      <td>1~6수소로</td>\n",
       "      <td>1060KBE05</td>\n",
       "      <td>EBNER 5번 BASE</td>\n",
       "      <td>2022-09-04 05:01:00</td>\n",
       "      <td>20220903</td>\n",
       "      <td>2645</td>\n",
       "      <td>1066E</td>\n",
       "      <td>...</td>\n",
       "      <td>김백수</td>\n",
       "      <td>2022-09-05 04:57:40</td>\n",
       "      <td>김백수</td>\n",
       "      <td>11181</td>\n",
       "      <td>A조</td>\n",
       "      <td>NaN</td>\n",
       "      <td>NaN</td>\n",
       "      <td>1510P</td>\n",
       "      <td>포항공장</td>\n",
       "      <td>2022-09-05 17:34:00</td>\n",
       "    </tr>\n",
       "  </tbody>\n",
       "</table>\n",
       "<p>5 rows × 52 columns</p>\n",
       "</div>"
      ],
      "text/plain": [
       "   BAS_GBN BAS_GBN_NM BAS_GRP BAS_GRP_NM     BAS_NO         BAS_NM  \\\n",
       "0    12672        수소로  1405E1     1~6수소로  1060KBE01  EBNER 1번 BASE   \n",
       "1    12672        수소로  1405E1     1~6수소로  1060KBE02  EBNER 2번 BASE   \n",
       "2    12672        수소로  1405E1     1~6수소로  1060KBE03  EBNER 3번 BASE   \n",
       "3    12672        수소로  1405E1     1~6수소로  1060KBE04  EBNER 4번 BASE   \n",
       "4    12672        수소로  1405E1     1~6수소로  1060KBE05  EBNER 5번 BASE   \n",
       "\n",
       "                LOD_DT  LODCAL_YMD  BAS_CNT WRKSTS_CD  ... CRTCHR_NO  \\\n",
       "0  2022-09-03 18:47:00    20220903     4016     1066E  ...       이승용   \n",
       "1  2022-09-05 08:35:00    20220905     4115     1066C  ...       김백수   \n",
       "2  2022-09-04 23:35:00    20220904     3265     1066E  ...       김백수   \n",
       "3  2022-09-02 16:08:00    20220902     2569     1066E  ...       이승용   \n",
       "4  2022-09-04 05:01:00    20220903     2645     1066E  ...       김백수   \n",
       "\n",
       "                UPD_DT UPDCHR_NO LODWRKTEAM_VAL LODWRKTEAM_VAL_NM  \\\n",
       "0  2022-09-05 04:56:37       김백수          11183                C조   \n",
       "1  2022-09-05 17:54:46       김백수          11184                D조   \n",
       "2  2022-09-06 03:30:52       김백수          11181                A조   \n",
       "3  2022-09-04 10:45:08       김백수          11183                C조   \n",
       "4  2022-09-05 04:57:40       김백수          11181                A조   \n",
       "\n",
       "  OUTWRKTEAM_VAL  OUTWRKTEAM_VAL_NM ZON_CD  ZON_NM          COL_FIN_DT  \n",
       "0            NaN                NaN  1510P    포항공장 2022-09-05 08:56:00  \n",
       "1            NaN                NaN  1510P    포항공장                 NaT  \n",
       "2            NaN                NaN  1510P    포항공장 2022-09-06 15:00:00  \n",
       "3            NaN                NaN  1510P    포항공장 2022-09-05 08:06:00  \n",
       "4            NaN                NaN  1510P    포항공장 2022-09-05 17:34:00  \n",
       "\n",
       "[5 rows x 52 columns]"
      ]
     },
     "execution_count": 704,
     "metadata": {},
     "output_type": "execute_result"
    }
   ],
   "source": [
    "batch_master.head()"
   ]
  },
  {
   "cell_type": "markdown",
   "metadata": {},
   "source": [
    "**- 우려사항 : 해당 csv파일은 전체 베이스 54개가 다 안들어있을 수도 있음. 대상 베이스를 정하는 코드는 csv파일을 기준으로 해서 놓치는 베이스가 있을수도 있음**"
   ]
  },
  {
   "cell_type": "code",
   "execution_count": 705,
   "metadata": {},
   "outputs": [
    {
     "name": "stdout",
     "output_type": "stream",
     "text": [
      "(37,)\n"
     ]
    },
    {
     "data": {
      "text/plain": [
       "0   2022-09-05 08:56:00\n",
       "2   2022-09-06 10:00:00\n",
       "3   2022-09-05 03:06:00\n",
       "4   2022-09-05 12:34:00\n",
       "5   2022-09-06 03:00:00\n",
       "Name: COL_DT, dtype: datetime64[ns]"
      ]
     },
     "execution_count": 705,
     "metadata": {},
     "output_type": "execute_result"
    }
   ],
   "source": [
    "batch_master = batch_master.dropna(subset=['COL_DT'])\n",
    "print(batch_master['COL_DT'].shape)\n",
    "batch_master['COL_DT'][:5]"
   ]
  },
  {
   "cell_type": "code",
   "execution_count": 706,
   "metadata": {},
   "outputs": [
    {
     "name": "stdout",
     "output_type": "stream",
     "text": [
      "(29,)\n"
     ]
    },
    {
     "data": {
      "text/plain": [
       "0      0.0\n",
       "2    300.0\n",
       "3    300.0\n",
       "4    300.0\n",
       "5      0.0\n",
       "Name: COLWRK_DUR, dtype: float64"
      ]
     },
     "execution_count": 706,
     "metadata": {},
     "output_type": "execute_result"
    }
   ],
   "source": [
    "batch_master = batch_master.dropna(subset=['COLWRK_DUR'])\n",
    "print(batch_master['COLWRK_DUR'].shape)\n",
    "batch_master['COLWRK_DUR'][:5]"
   ]
  },
  {
   "cell_type": "markdown",
   "metadata": {},
   "source": [
    "- 이제 현재날짜,시각과 'COL_FIN_DT'과 비교하여 대상 base 선정\n",
    "- 일단 지금은 하드코딩"
   ]
  },
  {
   "cell_type": "code",
   "execution_count": 715,
   "metadata": {},
   "outputs": [
    {
     "data": {
      "text/plain": [
       "0    2022-09-05 08:56:00\n",
       "2    2022-09-06 15:00:00\n",
       "3    2022-09-05 08:06:00\n",
       "4    2022-09-05 17:34:00\n",
       "5    2022-09-06 03:00:00\n",
       "7    2022-09-06 23:13:00\n",
       "8    2022-09-05 08:20:00\n",
       "9    2022-09-05 23:48:00\n",
       "10   2022-09-05 06:19:00\n",
       "11   2022-09-05 23:50:00\n",
       "12   2022-09-07 04:33:00\n",
       "13   2022-09-06 19:21:00\n",
       "15   2022-09-05 11:25:00\n",
       "16   2022-09-05 15:00:00\n",
       "18   2022-09-05 16:50:00\n",
       "19   2022-09-04 04:15:00\n",
       "20   2022-09-05 15:41:00\n",
       "22   2022-09-06 01:06:00\n",
       "24   2022-09-05 17:10:00\n",
       "26   2022-09-05 18:14:00\n",
       "29   2022-09-06 03:40:00\n",
       "38   2022-08-26 04:30:48\n",
       "42   2022-06-30 13:03:31\n",
       "43   2022-08-27 04:55:49\n",
       "44   2022-08-24 14:56:13\n",
       "45   2022-08-28 19:02:14\n",
       "46   2022-09-04 23:42:27\n",
       "49   2022-08-29 15:12:12\n",
       "51   2022-08-04 15:03:52\n",
       "Name: COL_FIN_DT, dtype: datetime64[ns]"
      ]
     },
     "execution_count": 715,
     "metadata": {},
     "output_type": "execute_result"
    }
   ],
   "source": [
    "batch_master[\"COL_FIN_DT\"]"
   ]
  },
  {
   "cell_type": "code",
   "execution_count": 716,
   "metadata": {},
   "outputs": [
    {
     "ename": "TypeError",
     "evalue": "'module' object is not callable",
     "output_type": "error",
     "traceback": [
      "\u001b[1;31m---------------------------------------------------------------------------\u001b[0m",
      "\u001b[1;31mTypeError\u001b[0m                                 Traceback (most recent call last)",
      "\u001b[1;32mc:\\Users\\USER\\workspace\\DK\\generate_dataframe.ipynb 셀 74\u001b[0m in \u001b[0;36m<cell line: 2>\u001b[1;34m()\u001b[0m\n\u001b[0;32m      <a href='vscode-notebook-cell:/c%3A/Users/USER/workspace/DK/generate_dataframe.ipynb#Y304sZmlsZQ%3D%3D?line=0'>1</a>\u001b[0m \u001b[39m# now = datetime.now()\u001b[39;00m\n\u001b[1;32m----> <a href='vscode-notebook-cell:/c%3A/Users/USER/workspace/DK/generate_dataframe.ipynb#Y304sZmlsZQ%3D%3D?line=1'>2</a>\u001b[0m now \u001b[39m=\u001b[39m datetime(\u001b[39m2020\u001b[39;49m, \u001b[39m1\u001b[39;49m, \u001b[39m1\u001b[39;49m, \u001b[39m8\u001b[39;49m, \u001b[39m0\u001b[39;49m, \u001b[39m0\u001b[39;49m)\n\u001b[0;32m      <a href='vscode-notebook-cell:/c%3A/Users/USER/workspace/DK/generate_dataframe.ipynb#Y304sZmlsZQ%3D%3D?line=2'>3</a>\u001b[0m \u001b[39mprint\u001b[39m(now)\n",
      "\u001b[1;31mTypeError\u001b[0m: 'module' object is not callable"
     ]
    }
   ],
   "source": [
    "# now = datetime.now()\n",
    "now = datetime(2020, 1, 1, 8, 0, 0)\n",
    "print(now)"
   ]
  },
  {
   "cell_type": "code",
   "execution_count": null,
   "metadata": {},
   "outputs": [],
   "source": []
  },
  {
   "cell_type": "code",
   "execution_count": null,
   "metadata": {},
   "outputs": [],
   "source": []
  },
  {
   "cell_type": "code",
   "execution_count": null,
   "metadata": {},
   "outputs": [],
   "source": []
  },
  {
   "cell_type": "code",
   "execution_count": null,
   "metadata": {},
   "outputs": [],
   "source": []
  },
  {
   "cell_type": "code",
   "execution_count": null,
   "metadata": {},
   "outputs": [],
   "source": []
  },
  {
   "cell_type": "code",
   "execution_count": null,
   "metadata": {},
   "outputs": [],
   "source": []
  },
  {
   "cell_type": "code",
   "execution_count": null,
   "metadata": {},
   "outputs": [],
   "source": []
  },
  {
   "cell_type": "code",
   "execution_count": null,
   "metadata": {},
   "outputs": [],
   "source": []
  },
  {
   "cell_type": "code",
   "execution_count": null,
   "metadata": {},
   "outputs": [],
   "source": []
  },
  {
   "cell_type": "code",
   "execution_count": null,
   "metadata": {},
   "outputs": [],
   "source": []
  },
  {
   "cell_type": "code",
   "execution_count": null,
   "metadata": {},
   "outputs": [],
   "source": []
  },
  {
   "cell_type": "code",
   "execution_count": null,
   "metadata": {},
   "outputs": [],
   "source": []
  },
  {
   "cell_type": "code",
   "execution_count": null,
   "metadata": {},
   "outputs": [],
   "source": []
  },
  {
   "cell_type": "code",
   "execution_count": null,
   "metadata": {},
   "outputs": [],
   "source": []
  },
  {
   "cell_type": "code",
   "execution_count": null,
   "metadata": {},
   "outputs": [],
   "source": []
  },
  {
   "cell_type": "code",
   "execution_count": null,
   "metadata": {},
   "outputs": [],
   "source": []
  },
  {
   "cell_type": "code",
   "execution_count": null,
   "metadata": {},
   "outputs": [],
   "source": []
  },
  {
   "cell_type": "code",
   "execution_count": null,
   "metadata": {},
   "outputs": [],
   "source": []
  },
  {
   "cell_type": "code",
   "execution_count": null,
   "metadata": {},
   "outputs": [],
   "source": []
  },
  {
   "cell_type": "code",
   "execution_count": null,
   "metadata": {},
   "outputs": [],
   "source": []
  },
  {
   "cell_type": "code",
   "execution_count": null,
   "metadata": {},
   "outputs": [],
   "source": []
  },
  {
   "cell_type": "code",
   "execution_count": null,
   "metadata": {},
   "outputs": [],
   "source": []
  },
  {
   "cell_type": "code",
   "execution_count": null,
   "metadata": {},
   "outputs": [],
   "source": []
  },
  {
   "cell_type": "code",
   "execution_count": 707,
   "metadata": {},
   "outputs": [
    {
     "data": {
      "text/html": [
       "<div>\n",
       "<style scoped>\n",
       "    .dataframe tbody tr th:only-of-type {\n",
       "        vertical-align: middle;\n",
       "    }\n",
       "\n",
       "    .dataframe tbody tr th {\n",
       "        vertical-align: top;\n",
       "    }\n",
       "\n",
       "    .dataframe thead th {\n",
       "        text-align: right;\n",
       "    }\n",
       "</style>\n",
       "<table border=\"1\" class=\"dataframe\">\n",
       "  <thead>\n",
       "    <tr style=\"text-align: right;\">\n",
       "      <th></th>\n",
       "      <th>Maker</th>\n",
       "      <th>Base_number</th>\n",
       "      <th>Weight(Ton)</th>\n",
       "      <th>Height(mm)</th>\n",
       "      <th>Outer_max(mm)</th>\n",
       "      <th>Outer_min(mm)</th>\n",
       "      <th>Inner(mm)</th>\n",
       "    </tr>\n",
       "  </thead>\n",
       "  <tbody>\n",
       "    <tr>\n",
       "      <th>0</th>\n",
       "      <td>EBNER</td>\n",
       "      <td>1</td>\n",
       "      <td>35</td>\n",
       "      <td>2800</td>\n",
       "      <td>1700</td>\n",
       "      <td>900</td>\n",
       "      <td>508</td>\n",
       "    </tr>\n",
       "    <tr>\n",
       "      <th>1</th>\n",
       "      <td>EBNER</td>\n",
       "      <td>2</td>\n",
       "      <td>35</td>\n",
       "      <td>2800</td>\n",
       "      <td>1700</td>\n",
       "      <td>900</td>\n",
       "      <td>508</td>\n",
       "    </tr>\n",
       "    <tr>\n",
       "      <th>2</th>\n",
       "      <td>EBNER</td>\n",
       "      <td>3</td>\n",
       "      <td>35</td>\n",
       "      <td>2800</td>\n",
       "      <td>1700</td>\n",
       "      <td>900</td>\n",
       "      <td>508</td>\n",
       "    </tr>\n",
       "    <tr>\n",
       "      <th>3</th>\n",
       "      <td>EBNER</td>\n",
       "      <td>4</td>\n",
       "      <td>35</td>\n",
       "      <td>2800</td>\n",
       "      <td>1700</td>\n",
       "      <td>900</td>\n",
       "      <td>508</td>\n",
       "    </tr>\n",
       "    <tr>\n",
       "      <th>4</th>\n",
       "      <td>EBNER</td>\n",
       "      <td>5</td>\n",
       "      <td>35</td>\n",
       "      <td>2800</td>\n",
       "      <td>1700</td>\n",
       "      <td>900</td>\n",
       "      <td>508</td>\n",
       "    </tr>\n",
       "  </tbody>\n",
       "</table>\n",
       "</div>"
      ],
      "text/plain": [
       "   Maker  Base_number  Weight(Ton)  Height(mm)  Outer_max(mm)  Outer_min(mm)  \\\n",
       "0  EBNER            1           35        2800           1700            900   \n",
       "1  EBNER            2           35        2800           1700            900   \n",
       "2  EBNER            3           35        2800           1700            900   \n",
       "3  EBNER            4           35        2800           1700            900   \n",
       "4  EBNER            5           35        2800           1700            900   \n",
       "\n",
       "   Inner(mm)  \n",
       "0        508  \n",
       "1        508  \n",
       "2        508  \n",
       "3        508  \n",
       "4        508  "
      ]
     },
     "execution_count": 707,
     "metadata": {},
     "output_type": "execute_result"
    }
   ],
   "source": [
    "base_df = pd.read_csv(\"./data/base_capacity_information.csv\")\n",
    "base_df.head()"
   ]
  },
  {
   "cell_type": "markdown",
   "metadata": {},
   "source": [
    "- Maker"
   ]
  },
  {
   "cell_type": "code",
   "execution_count": 708,
   "metadata": {},
   "outputs": [
    {
     "data": {
      "text/plain": [
       "['EBNER', 'EBNER', 'EBNER', 'EBNER', 'EBNER']"
      ]
     },
     "execution_count": 708,
     "metadata": {},
     "output_type": "execute_result"
    }
   ],
   "source": [
    "base_maker = base_df['Maker'].tolist()\n",
    "base_maker[:5]"
   ]
  },
  {
   "cell_type": "markdown",
   "metadata": {},
   "source": [
    "- Base Number"
   ]
  },
  {
   "cell_type": "code",
   "execution_count": 709,
   "metadata": {},
   "outputs": [
    {
     "data": {
      "text/plain": [
       "[1, 2, 3, 4, 5]"
      ]
     },
     "execution_count": 709,
     "metadata": {},
     "output_type": "execute_result"
    }
   ],
   "source": [
    "base_number = base_df['Base_number'].tolist()\n",
    "base_number[:5]"
   ]
  },
  {
   "cell_type": "markdown",
   "metadata": {},
   "source": [
    "- Base의 코일 수용 가능 무게"
   ]
  },
  {
   "cell_type": "code",
   "execution_count": 710,
   "metadata": {},
   "outputs": [
    {
     "data": {
      "text/plain": [
       "[35, 35, 35, 35, 35]"
      ]
     },
     "execution_count": 710,
     "metadata": {},
     "output_type": "execute_result"
    }
   ],
   "source": [
    "base_weight = base_df['Weight(Ton)'].tolist()\n",
    "base_weight[:5]"
   ]
  },
  {
   "cell_type": "markdown",
   "metadata": {},
   "source": [
    "- Base 높이"
   ]
  },
  {
   "cell_type": "code",
   "execution_count": 711,
   "metadata": {},
   "outputs": [
    {
     "data": {
      "text/plain": [
       "[2800, 2800, 2800, 2800, 2800]"
      ]
     },
     "execution_count": 711,
     "metadata": {},
     "output_type": "execute_result"
    }
   ],
   "source": [
    "base_height = base_df['Height(mm)'].tolist()\n",
    "base_height[:5]"
   ]
  },
  {
   "cell_type": "markdown",
   "metadata": {},
   "source": [
    "- Base 외경 최대"
   ]
  },
  {
   "cell_type": "code",
   "execution_count": 712,
   "metadata": {},
   "outputs": [
    {
     "data": {
      "text/plain": [
       "[1700, 1700, 1700, 1700, 1700]"
      ]
     },
     "execution_count": 712,
     "metadata": {},
     "output_type": "execute_result"
    }
   ],
   "source": [
    "base_outer_max = base_df['Outer_max(mm)'].tolist()\n",
    "base_outer_max[:5]"
   ]
  },
  {
   "cell_type": "markdown",
   "metadata": {},
   "source": [
    "- Base 외경 최소"
   ]
  },
  {
   "cell_type": "code",
   "execution_count": 713,
   "metadata": {},
   "outputs": [
    {
     "data": {
      "text/plain": [
       "[900, 900, 900, 900, 900]"
      ]
     },
     "execution_count": 713,
     "metadata": {},
     "output_type": "execute_result"
    }
   ],
   "source": [
    "base_outer_min = base_df['Outer_min(mm)'].tolist()\n",
    "base_outer_min[:5]"
   ]
  },
  {
   "cell_type": "markdown",
   "metadata": {},
   "source": [
    "- Base 내경"
   ]
  },
  {
   "cell_type": "code",
   "execution_count": 714,
   "metadata": {},
   "outputs": [
    {
     "data": {
      "text/plain": [
       "[508, 508, 508, 508, 508]"
      ]
     },
     "execution_count": 714,
     "metadata": {},
     "output_type": "execute_result"
    }
   ],
   "source": [
    "base_inner = base_df['Inner(mm)'].tolist()\n",
    "base_inner[:5]"
   ]
  }
 ],
 "metadata": {
  "kernelspec": {
   "display_name": "Python 3.9.12 ('base')",
   "language": "python",
   "name": "python3"
  },
  "language_info": {
   "codemirror_mode": {
    "name": "ipython",
    "version": 3
   },
   "file_extension": ".py",
   "mimetype": "text/x-python",
   "name": "python",
   "nbconvert_exporter": "python",
   "pygments_lexer": "ipython3",
   "version": "3.9.12"
  },
  "orig_nbformat": 4,
  "vscode": {
   "interpreter": {
    "hash": "263930470851f494f0ed2879c35b57985588df20f9e529b86e97dd5eb9ddc466"
   }
  }
 },
 "nbformat": 4,
 "nbformat_minor": 2
}
