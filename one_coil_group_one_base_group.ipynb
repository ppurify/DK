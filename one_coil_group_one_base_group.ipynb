{
 "cells": [
  {
   "cell_type": "code",
   "execution_count": 2,
   "metadata": {},
   "outputs": [],
   "source": [
    "import numpy as np\n",
    "import pandas as pd"
   ]
  },
  {
   "cell_type": "code",
   "execution_count": 5,
   "metadata": {},
   "outputs": [
    {
     "name": "stdout",
     "output_type": "stream",
     "text": [
      "['AN11', 'AN10', 'AN12', 'AN13']\n",
      "['620', '750', '725', '700', '725(표준)', '작업지시서 소둔 Cycle 적용', '700(표준)', '735', '720', '700*Max', '725*Max', '750*Max']\n"
     ]
    }
   ],
   "source": [
    "df = pd.read_csv(\"./data/data_df.csv\")\n",
    "data_df = df.copy()\n",
    "data_df = data_df.astype({\"WDT_LEN\" : \"str\", \"WGT_WGT\" : \"str\", \"IND_CD\" : \"str\", \"OUD_LEN\" : \"str\", \"STL_CD\" : \"str\"})\n",
    "\n",
    "kind_of_ann = data_df[\"PNSPRC_CD\"].unique().tolist()\n",
    "kind_of_cycle = data_df[\"cycle\"].unique().tolist()\n",
    "\n",
    "print(kind_of_ann)\n",
    "print(kind_of_cycle)"
   ]
  },
  {
   "cell_type": "code",
   "execution_count": 21,
   "metadata": {},
   "outputs": [
    {
     "name": "stdout",
     "output_type": "stream",
     "text": [
      "79\n",
      "1\n",
      "16\n",
      "130\n",
      "11\n",
      "5\n",
      "10\n",
      "3\n",
      "7\n",
      "2\n",
      "63\n",
      "1\n",
      "3\n",
      "4\n",
      "6\n",
      "3\n",
      "1\n",
      "8\n",
      "18\n",
      "2\n",
      "6\n",
      "2\n",
      "1\n",
      "5\n"
     ]
    }
   ],
   "source": [
    "\n",
    "for i in range(len(kind_of_ann)):\n",
    "    for j in range(len(kind_of_cycle)): \n",
    "        separated_df = data_df.loc[(data_df['PNSPRC_CD'] == kind_of_ann[i]) & (data_df['cycle'] == kind_of_cycle[j])]\n",
    "        if separated_df.shape[0] >= 1 : print(separated_df.shape[0])\n",
    "\n"
   ]
  },
  {
   "cell_type": "code",
   "execution_count": 9,
   "metadata": {},
   "outputs": [
    {
     "data": {
      "text/plain": [
       "<pandas.core.groupby.generic.DataFrameGroupBy object at 0x000001D68456A1C0>"
      ]
     },
     "execution_count": 9,
     "metadata": {},
     "output_type": "execute_result"
    }
   ],
   "source": [
    "coil_number = separated_df[\"COIL_NO\"].tolist()\n",
    "ann_number = separated_df[\"PNSPRC_CD\"].tolist()\n",
    "cycle = separated_df[\"cycle\"].tolist()\n",
    "coil_length = separated_df[\"WDT_LEN\"].tolist()\n",
    "coil_weight = separated_df[\"WGT_WGT\"].tolist()\n",
    "coil_inner = separated_df[\"IND_CD\"].tolist()\n",
    "coil_outer = separated_df[\"OUD_LEN\"].tolist()\n",
    "coil_emergency = separated_df[\"EMG_CD\"].tolist()"
   ]
  }
 ],
 "metadata": {
  "kernelspec": {
   "display_name": "Python 3.9.12 ('base')",
   "language": "python",
   "name": "python3"
  },
  "language_info": {
   "codemirror_mode": {
    "name": "ipython",
    "version": 3
   },
   "file_extension": ".py",
   "mimetype": "text/x-python",
   "name": "python",
   "nbconvert_exporter": "python",
   "pygments_lexer": "ipython3",
   "version": "3.9.12"
  },
  "orig_nbformat": 4,
  "vscode": {
   "interpreter": {
    "hash": "263930470851f494f0ed2879c35b57985588df20f9e529b86e97dd5eb9ddc466"
   }
  }
 },
 "nbformat": 4,
 "nbformat_minor": 2
}
